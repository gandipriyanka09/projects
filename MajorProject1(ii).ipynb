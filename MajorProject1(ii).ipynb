{
  "nbformat": 4,
  "nbformat_minor": 0,
  "metadata": {
    "colab": {
      "provenance": []
    },
    "kernelspec": {
      "name": "python3",
      "display_name": "Python 3"
    },
    "language_info": {
      "name": "python"
    }
  },
  "cells": [
    {
      "cell_type": "code",
      "execution_count": null,
      "metadata": {
        "id": "rzcIF9m-H2vm"
      },
      "outputs": [],
      "source": [
        "#HOME LOAN PREDICTION USING MULTI LINEAR REGRESSION"
      ]
    },
    {
      "cell_type": "markdown",
      "source": [
        "**Home Loan Approval**"
      ],
      "metadata": {
        "id": "MiQQ8y4DIS8o"
      }
    },
    {
      "cell_type": "code",
      "source": [
        "#Creating the DATASET\n",
        "import pandas as pd\n",
        "df = pd.read_csv(\"https://raw.githubusercontent.com/gandipriyanka09/DataSets/main/loan_test.csv\")\n",
        "df"
      ],
      "metadata": {
        "id": "JudFdZCcIXkg",
        "colab": {
          "base_uri": "https://localhost:8080/",
          "height": 522
        },
        "outputId": "abf1c1e7-7dbf-46f0-b80d-d59109071d03"
      },
      "execution_count": null,
      "outputs": [
        {
          "output_type": "execute_result",
          "data": {
            "text/plain": [
              "    Gender Married Dependents     Education Self_Employed  Applicant_Income  \\\n",
              "0     Male     Yes          0      Graduate            No            572000   \n",
              "1     Male     Yes          1      Graduate            No            307600   \n",
              "2     Male     Yes          2      Graduate            No            500000   \n",
              "3     Male     Yes          2      Graduate            No            234000   \n",
              "4     Male      No          0  Not Graduate            No            327600   \n",
              "..     ...     ...        ...           ...           ...               ...   \n",
              "362   Male     Yes         3+  Not Graduate           Yes            400900   \n",
              "363   Male     Yes          0      Graduate            No            415800   \n",
              "364   Male      No          0      Graduate            No            325000   \n",
              "365   Male     Yes          0      Graduate            No            500000   \n",
              "366   Male      No          0      Graduate           Yes            920000   \n",
              "\n",
              "     Coapplicant_Income  Loan_Amount   Term  Credit_History       Area  \n",
              "0                     0     11000000  360.0             1.0      Urban  \n",
              "1                150000     12600000  360.0             1.0      Urban  \n",
              "2                180000     20800000  360.0             1.0      Urban  \n",
              "3                254600     10000000  360.0             NaN      Urban  \n",
              "4                     0      7800000  360.0             1.0      Urban  \n",
              "..                  ...          ...    ...             ...        ...  \n",
              "362              177700     11300000  360.0             1.0      Urban  \n",
              "363               70900     11500000  360.0             1.0      Urban  \n",
              "364              199300     12600000  360.0             NaN  Semiurban  \n",
              "365              239300     15800000  360.0             1.0      Rural  \n",
              "366                   0      9800000  180.0             1.0      Rural  \n",
              "\n",
              "[367 rows x 11 columns]"
            ],
            "text/html": [
              "\n",
              "  <div id=\"df-7494b708-1b46-4359-af93-af6373961d3b\">\n",
              "    <div class=\"colab-df-container\">\n",
              "      <div>\n",
              "<style scoped>\n",
              "    .dataframe tbody tr th:only-of-type {\n",
              "        vertical-align: middle;\n",
              "    }\n",
              "\n",
              "    .dataframe tbody tr th {\n",
              "        vertical-align: top;\n",
              "    }\n",
              "\n",
              "    .dataframe thead th {\n",
              "        text-align: right;\n",
              "    }\n",
              "</style>\n",
              "<table border=\"1\" class=\"dataframe\">\n",
              "  <thead>\n",
              "    <tr style=\"text-align: right;\">\n",
              "      <th></th>\n",
              "      <th>Gender</th>\n",
              "      <th>Married</th>\n",
              "      <th>Dependents</th>\n",
              "      <th>Education</th>\n",
              "      <th>Self_Employed</th>\n",
              "      <th>Applicant_Income</th>\n",
              "      <th>Coapplicant_Income</th>\n",
              "      <th>Loan_Amount</th>\n",
              "      <th>Term</th>\n",
              "      <th>Credit_History</th>\n",
              "      <th>Area</th>\n",
              "    </tr>\n",
              "  </thead>\n",
              "  <tbody>\n",
              "    <tr>\n",
              "      <th>0</th>\n",
              "      <td>Male</td>\n",
              "      <td>Yes</td>\n",
              "      <td>0</td>\n",
              "      <td>Graduate</td>\n",
              "      <td>No</td>\n",
              "      <td>572000</td>\n",
              "      <td>0</td>\n",
              "      <td>11000000</td>\n",
              "      <td>360.0</td>\n",
              "      <td>1.0</td>\n",
              "      <td>Urban</td>\n",
              "    </tr>\n",
              "    <tr>\n",
              "      <th>1</th>\n",
              "      <td>Male</td>\n",
              "      <td>Yes</td>\n",
              "      <td>1</td>\n",
              "      <td>Graduate</td>\n",
              "      <td>No</td>\n",
              "      <td>307600</td>\n",
              "      <td>150000</td>\n",
              "      <td>12600000</td>\n",
              "      <td>360.0</td>\n",
              "      <td>1.0</td>\n",
              "      <td>Urban</td>\n",
              "    </tr>\n",
              "    <tr>\n",
              "      <th>2</th>\n",
              "      <td>Male</td>\n",
              "      <td>Yes</td>\n",
              "      <td>2</td>\n",
              "      <td>Graduate</td>\n",
              "      <td>No</td>\n",
              "      <td>500000</td>\n",
              "      <td>180000</td>\n",
              "      <td>20800000</td>\n",
              "      <td>360.0</td>\n",
              "      <td>1.0</td>\n",
              "      <td>Urban</td>\n",
              "    </tr>\n",
              "    <tr>\n",
              "      <th>3</th>\n",
              "      <td>Male</td>\n",
              "      <td>Yes</td>\n",
              "      <td>2</td>\n",
              "      <td>Graduate</td>\n",
              "      <td>No</td>\n",
              "      <td>234000</td>\n",
              "      <td>254600</td>\n",
              "      <td>10000000</td>\n",
              "      <td>360.0</td>\n",
              "      <td>NaN</td>\n",
              "      <td>Urban</td>\n",
              "    </tr>\n",
              "    <tr>\n",
              "      <th>4</th>\n",
              "      <td>Male</td>\n",
              "      <td>No</td>\n",
              "      <td>0</td>\n",
              "      <td>Not Graduate</td>\n",
              "      <td>No</td>\n",
              "      <td>327600</td>\n",
              "      <td>0</td>\n",
              "      <td>7800000</td>\n",
              "      <td>360.0</td>\n",
              "      <td>1.0</td>\n",
              "      <td>Urban</td>\n",
              "    </tr>\n",
              "    <tr>\n",
              "      <th>...</th>\n",
              "      <td>...</td>\n",
              "      <td>...</td>\n",
              "      <td>...</td>\n",
              "      <td>...</td>\n",
              "      <td>...</td>\n",
              "      <td>...</td>\n",
              "      <td>...</td>\n",
              "      <td>...</td>\n",
              "      <td>...</td>\n",
              "      <td>...</td>\n",
              "      <td>...</td>\n",
              "    </tr>\n",
              "    <tr>\n",
              "      <th>362</th>\n",
              "      <td>Male</td>\n",
              "      <td>Yes</td>\n",
              "      <td>3+</td>\n",
              "      <td>Not Graduate</td>\n",
              "      <td>Yes</td>\n",
              "      <td>400900</td>\n",
              "      <td>177700</td>\n",
              "      <td>11300000</td>\n",
              "      <td>360.0</td>\n",
              "      <td>1.0</td>\n",
              "      <td>Urban</td>\n",
              "    </tr>\n",
              "    <tr>\n",
              "      <th>363</th>\n",
              "      <td>Male</td>\n",
              "      <td>Yes</td>\n",
              "      <td>0</td>\n",
              "      <td>Graduate</td>\n",
              "      <td>No</td>\n",
              "      <td>415800</td>\n",
              "      <td>70900</td>\n",
              "      <td>11500000</td>\n",
              "      <td>360.0</td>\n",
              "      <td>1.0</td>\n",
              "      <td>Urban</td>\n",
              "    </tr>\n",
              "    <tr>\n",
              "      <th>364</th>\n",
              "      <td>Male</td>\n",
              "      <td>No</td>\n",
              "      <td>0</td>\n",
              "      <td>Graduate</td>\n",
              "      <td>No</td>\n",
              "      <td>325000</td>\n",
              "      <td>199300</td>\n",
              "      <td>12600000</td>\n",
              "      <td>360.0</td>\n",
              "      <td>NaN</td>\n",
              "      <td>Semiurban</td>\n",
              "    </tr>\n",
              "    <tr>\n",
              "      <th>365</th>\n",
              "      <td>Male</td>\n",
              "      <td>Yes</td>\n",
              "      <td>0</td>\n",
              "      <td>Graduate</td>\n",
              "      <td>No</td>\n",
              "      <td>500000</td>\n",
              "      <td>239300</td>\n",
              "      <td>15800000</td>\n",
              "      <td>360.0</td>\n",
              "      <td>1.0</td>\n",
              "      <td>Rural</td>\n",
              "    </tr>\n",
              "    <tr>\n",
              "      <th>366</th>\n",
              "      <td>Male</td>\n",
              "      <td>No</td>\n",
              "      <td>0</td>\n",
              "      <td>Graduate</td>\n",
              "      <td>Yes</td>\n",
              "      <td>920000</td>\n",
              "      <td>0</td>\n",
              "      <td>9800000</td>\n",
              "      <td>180.0</td>\n",
              "      <td>1.0</td>\n",
              "      <td>Rural</td>\n",
              "    </tr>\n",
              "  </tbody>\n",
              "</table>\n",
              "<p>367 rows × 11 columns</p>\n",
              "</div>\n",
              "      <button class=\"colab-df-convert\" onclick=\"convertToInteractive('df-7494b708-1b46-4359-af93-af6373961d3b')\"\n",
              "              title=\"Convert this dataframe to an interactive table.\"\n",
              "              style=\"display:none;\">\n",
              "        \n",
              "  <svg xmlns=\"http://www.w3.org/2000/svg\" height=\"24px\"viewBox=\"0 0 24 24\"\n",
              "       width=\"24px\">\n",
              "    <path d=\"M0 0h24v24H0V0z\" fill=\"none\"/>\n",
              "    <path d=\"M18.56 5.44l.94 2.06.94-2.06 2.06-.94-2.06-.94-.94-2.06-.94 2.06-2.06.94zm-11 1L8.5 8.5l.94-2.06 2.06-.94-2.06-.94L8.5 2.5l-.94 2.06-2.06.94zm10 10l.94 2.06.94-2.06 2.06-.94-2.06-.94-.94-2.06-.94 2.06-2.06.94z\"/><path d=\"M17.41 7.96l-1.37-1.37c-.4-.4-.92-.59-1.43-.59-.52 0-1.04.2-1.43.59L10.3 9.45l-7.72 7.72c-.78.78-.78 2.05 0 2.83L4 21.41c.39.39.9.59 1.41.59.51 0 1.02-.2 1.41-.59l7.78-7.78 2.81-2.81c.8-.78.8-2.07 0-2.86zM5.41 20L4 18.59l7.72-7.72 1.47 1.35L5.41 20z\"/>\n",
              "  </svg>\n",
              "      </button>\n",
              "      \n",
              "  <style>\n",
              "    .colab-df-container {\n",
              "      display:flex;\n",
              "      flex-wrap:wrap;\n",
              "      gap: 12px;\n",
              "    }\n",
              "\n",
              "    .colab-df-convert {\n",
              "      background-color: #E8F0FE;\n",
              "      border: none;\n",
              "      border-radius: 50%;\n",
              "      cursor: pointer;\n",
              "      display: none;\n",
              "      fill: #1967D2;\n",
              "      height: 32px;\n",
              "      padding: 0 0 0 0;\n",
              "      width: 32px;\n",
              "    }\n",
              "\n",
              "    .colab-df-convert:hover {\n",
              "      background-color: #E2EBFA;\n",
              "      box-shadow: 0px 1px 2px rgba(60, 64, 67, 0.3), 0px 1px 3px 1px rgba(60, 64, 67, 0.15);\n",
              "      fill: #174EA6;\n",
              "    }\n",
              "\n",
              "    [theme=dark] .colab-df-convert {\n",
              "      background-color: #3B4455;\n",
              "      fill: #D2E3FC;\n",
              "    }\n",
              "\n",
              "    [theme=dark] .colab-df-convert:hover {\n",
              "      background-color: #434B5C;\n",
              "      box-shadow: 0px 1px 3px 1px rgba(0, 0, 0, 0.15);\n",
              "      filter: drop-shadow(0px 1px 2px rgba(0, 0, 0, 0.3));\n",
              "      fill: #FFFFFF;\n",
              "    }\n",
              "  </style>\n",
              "\n",
              "      <script>\n",
              "        const buttonEl =\n",
              "          document.querySelector('#df-7494b708-1b46-4359-af93-af6373961d3b button.colab-df-convert');\n",
              "        buttonEl.style.display =\n",
              "          google.colab.kernel.accessAllowed ? 'block' : 'none';\n",
              "\n",
              "        async function convertToInteractive(key) {\n",
              "          const element = document.querySelector('#df-7494b708-1b46-4359-af93-af6373961d3b');\n",
              "          const dataTable =\n",
              "            await google.colab.kernel.invokeFunction('convertToInteractive',\n",
              "                                                     [key], {});\n",
              "          if (!dataTable) return;\n",
              "\n",
              "          const docLinkHtml = 'Like what you see? Visit the ' +\n",
              "            '<a target=\"_blank\" href=https://colab.research.google.com/notebooks/data_table.ipynb>data table notebook</a>'\n",
              "            + ' to learn more about interactive tables.';\n",
              "          element.innerHTML = '';\n",
              "          dataTable['output_type'] = 'display_data';\n",
              "          await google.colab.output.renderOutput(dataTable, element);\n",
              "          const docLink = document.createElement('div');\n",
              "          docLink.innerHTML = docLinkHtml;\n",
              "          element.appendChild(docLink);\n",
              "        }\n",
              "      </script>\n",
              "    </div>\n",
              "  </div>\n",
              "  "
            ]
          },
          "metadata": {},
          "execution_count": 122
        }
      ]
    },
    {
      "cell_type": "code",
      "source": [
        "df.info()"
      ],
      "metadata": {
        "colab": {
          "base_uri": "https://localhost:8080/"
        },
        "id": "uvXXUBGbi7kj",
        "outputId": "153a16c4-7962-48bc-bc5d-d0e7e46a67dd"
      },
      "execution_count": null,
      "outputs": [
        {
          "output_type": "stream",
          "name": "stdout",
          "text": [
            "<class 'pandas.core.frame.DataFrame'>\n",
            "RangeIndex: 367 entries, 0 to 366\n",
            "Data columns (total 11 columns):\n",
            " #   Column              Non-Null Count  Dtype  \n",
            "---  ------              --------------  -----  \n",
            " 0   Gender              356 non-null    object \n",
            " 1   Married             367 non-null    object \n",
            " 2   Dependents          357 non-null    object \n",
            " 3   Education           367 non-null    object \n",
            " 4   Self_Employed       344 non-null    object \n",
            " 5   Applicant_Income    367 non-null    int64  \n",
            " 6   Coapplicant_Income  367 non-null    int64  \n",
            " 7   Loan_Amount         367 non-null    int64  \n",
            " 8   Term                361 non-null    float64\n",
            " 9   Credit_History      338 non-null    float64\n",
            " 10  Area                367 non-null    object \n",
            "dtypes: float64(2), int64(3), object(6)\n",
            "memory usage: 31.7+ KB\n"
          ]
        }
      ]
    },
    {
      "cell_type": "code",
      "source": [
        "df.shape"
      ],
      "metadata": {
        "colab": {
          "base_uri": "https://localhost:8080/"
        },
        "id": "Qwq82UPxi_YX",
        "outputId": "a79791e9-1080-47ef-ace3-b140ae100a94"
      },
      "execution_count": null,
      "outputs": [
        {
          "output_type": "execute_result",
          "data": {
            "text/plain": [
              "(367, 11)"
            ]
          },
          "metadata": {},
          "execution_count": 124
        }
      ]
    },
    {
      "cell_type": "code",
      "source": [
        "df.size"
      ],
      "metadata": {
        "colab": {
          "base_uri": "https://localhost:8080/"
        },
        "id": "stST7e7YjByL",
        "outputId": "59615dec-8b25-435e-e864-1a9c2d1c2d2a"
      },
      "execution_count": null,
      "outputs": [
        {
          "output_type": "execute_result",
          "data": {
            "text/plain": [
              "4037"
            ]
          },
          "metadata": {},
          "execution_count": 125
        }
      ]
    },
    {
      "cell_type": "code",
      "source": [
        "#Cleaning The Data / EDA\n",
        "#dropping the unwanted columns i.e; dropping the dependents, Area and the education column\n",
        "df = df.drop([\"Dependents\",\"Education\",\"Area\"], axis = 'columns')\n",
        "df"
      ],
      "metadata": {
        "colab": {
          "base_uri": "https://localhost:8080/",
          "height": 423
        },
        "id": "Lrg7yy-yjDg3",
        "outputId": "6360c64a-2d22-4a90-9699-df6ef4c070af"
      },
      "execution_count": null,
      "outputs": [
        {
          "output_type": "execute_result",
          "data": {
            "text/plain": [
              "    Gender Married Self_Employed  Applicant_Income  Coapplicant_Income  \\\n",
              "0     Male     Yes            No            572000                   0   \n",
              "1     Male     Yes            No            307600              150000   \n",
              "2     Male     Yes            No            500000              180000   \n",
              "3     Male     Yes            No            234000              254600   \n",
              "4     Male      No            No            327600                   0   \n",
              "..     ...     ...           ...               ...                 ...   \n",
              "362   Male     Yes           Yes            400900              177700   \n",
              "363   Male     Yes            No            415800               70900   \n",
              "364   Male      No            No            325000              199300   \n",
              "365   Male     Yes            No            500000              239300   \n",
              "366   Male      No           Yes            920000                   0   \n",
              "\n",
              "     Loan_Amount   Term  Credit_History  \n",
              "0       11000000  360.0             1.0  \n",
              "1       12600000  360.0             1.0  \n",
              "2       20800000  360.0             1.0  \n",
              "3       10000000  360.0             NaN  \n",
              "4        7800000  360.0             1.0  \n",
              "..           ...    ...             ...  \n",
              "362     11300000  360.0             1.0  \n",
              "363     11500000  360.0             1.0  \n",
              "364     12600000  360.0             NaN  \n",
              "365     15800000  360.0             1.0  \n",
              "366      9800000  180.0             1.0  \n",
              "\n",
              "[367 rows x 8 columns]"
            ],
            "text/html": [
              "\n",
              "  <div id=\"df-73cfe1bf-0ba5-4db3-b6ad-0a786a97f8ef\">\n",
              "    <div class=\"colab-df-container\">\n",
              "      <div>\n",
              "<style scoped>\n",
              "    .dataframe tbody tr th:only-of-type {\n",
              "        vertical-align: middle;\n",
              "    }\n",
              "\n",
              "    .dataframe tbody tr th {\n",
              "        vertical-align: top;\n",
              "    }\n",
              "\n",
              "    .dataframe thead th {\n",
              "        text-align: right;\n",
              "    }\n",
              "</style>\n",
              "<table border=\"1\" class=\"dataframe\">\n",
              "  <thead>\n",
              "    <tr style=\"text-align: right;\">\n",
              "      <th></th>\n",
              "      <th>Gender</th>\n",
              "      <th>Married</th>\n",
              "      <th>Self_Employed</th>\n",
              "      <th>Applicant_Income</th>\n",
              "      <th>Coapplicant_Income</th>\n",
              "      <th>Loan_Amount</th>\n",
              "      <th>Term</th>\n",
              "      <th>Credit_History</th>\n",
              "    </tr>\n",
              "  </thead>\n",
              "  <tbody>\n",
              "    <tr>\n",
              "      <th>0</th>\n",
              "      <td>Male</td>\n",
              "      <td>Yes</td>\n",
              "      <td>No</td>\n",
              "      <td>572000</td>\n",
              "      <td>0</td>\n",
              "      <td>11000000</td>\n",
              "      <td>360.0</td>\n",
              "      <td>1.0</td>\n",
              "    </tr>\n",
              "    <tr>\n",
              "      <th>1</th>\n",
              "      <td>Male</td>\n",
              "      <td>Yes</td>\n",
              "      <td>No</td>\n",
              "      <td>307600</td>\n",
              "      <td>150000</td>\n",
              "      <td>12600000</td>\n",
              "      <td>360.0</td>\n",
              "      <td>1.0</td>\n",
              "    </tr>\n",
              "    <tr>\n",
              "      <th>2</th>\n",
              "      <td>Male</td>\n",
              "      <td>Yes</td>\n",
              "      <td>No</td>\n",
              "      <td>500000</td>\n",
              "      <td>180000</td>\n",
              "      <td>20800000</td>\n",
              "      <td>360.0</td>\n",
              "      <td>1.0</td>\n",
              "    </tr>\n",
              "    <tr>\n",
              "      <th>3</th>\n",
              "      <td>Male</td>\n",
              "      <td>Yes</td>\n",
              "      <td>No</td>\n",
              "      <td>234000</td>\n",
              "      <td>254600</td>\n",
              "      <td>10000000</td>\n",
              "      <td>360.0</td>\n",
              "      <td>NaN</td>\n",
              "    </tr>\n",
              "    <tr>\n",
              "      <th>4</th>\n",
              "      <td>Male</td>\n",
              "      <td>No</td>\n",
              "      <td>No</td>\n",
              "      <td>327600</td>\n",
              "      <td>0</td>\n",
              "      <td>7800000</td>\n",
              "      <td>360.0</td>\n",
              "      <td>1.0</td>\n",
              "    </tr>\n",
              "    <tr>\n",
              "      <th>...</th>\n",
              "      <td>...</td>\n",
              "      <td>...</td>\n",
              "      <td>...</td>\n",
              "      <td>...</td>\n",
              "      <td>...</td>\n",
              "      <td>...</td>\n",
              "      <td>...</td>\n",
              "      <td>...</td>\n",
              "    </tr>\n",
              "    <tr>\n",
              "      <th>362</th>\n",
              "      <td>Male</td>\n",
              "      <td>Yes</td>\n",
              "      <td>Yes</td>\n",
              "      <td>400900</td>\n",
              "      <td>177700</td>\n",
              "      <td>11300000</td>\n",
              "      <td>360.0</td>\n",
              "      <td>1.0</td>\n",
              "    </tr>\n",
              "    <tr>\n",
              "      <th>363</th>\n",
              "      <td>Male</td>\n",
              "      <td>Yes</td>\n",
              "      <td>No</td>\n",
              "      <td>415800</td>\n",
              "      <td>70900</td>\n",
              "      <td>11500000</td>\n",
              "      <td>360.0</td>\n",
              "      <td>1.0</td>\n",
              "    </tr>\n",
              "    <tr>\n",
              "      <th>364</th>\n",
              "      <td>Male</td>\n",
              "      <td>No</td>\n",
              "      <td>No</td>\n",
              "      <td>325000</td>\n",
              "      <td>199300</td>\n",
              "      <td>12600000</td>\n",
              "      <td>360.0</td>\n",
              "      <td>NaN</td>\n",
              "    </tr>\n",
              "    <tr>\n",
              "      <th>365</th>\n",
              "      <td>Male</td>\n",
              "      <td>Yes</td>\n",
              "      <td>No</td>\n",
              "      <td>500000</td>\n",
              "      <td>239300</td>\n",
              "      <td>15800000</td>\n",
              "      <td>360.0</td>\n",
              "      <td>1.0</td>\n",
              "    </tr>\n",
              "    <tr>\n",
              "      <th>366</th>\n",
              "      <td>Male</td>\n",
              "      <td>No</td>\n",
              "      <td>Yes</td>\n",
              "      <td>920000</td>\n",
              "      <td>0</td>\n",
              "      <td>9800000</td>\n",
              "      <td>180.0</td>\n",
              "      <td>1.0</td>\n",
              "    </tr>\n",
              "  </tbody>\n",
              "</table>\n",
              "<p>367 rows × 8 columns</p>\n",
              "</div>\n",
              "      <button class=\"colab-df-convert\" onclick=\"convertToInteractive('df-73cfe1bf-0ba5-4db3-b6ad-0a786a97f8ef')\"\n",
              "              title=\"Convert this dataframe to an interactive table.\"\n",
              "              style=\"display:none;\">\n",
              "        \n",
              "  <svg xmlns=\"http://www.w3.org/2000/svg\" height=\"24px\"viewBox=\"0 0 24 24\"\n",
              "       width=\"24px\">\n",
              "    <path d=\"M0 0h24v24H0V0z\" fill=\"none\"/>\n",
              "    <path d=\"M18.56 5.44l.94 2.06.94-2.06 2.06-.94-2.06-.94-.94-2.06-.94 2.06-2.06.94zm-11 1L8.5 8.5l.94-2.06 2.06-.94-2.06-.94L8.5 2.5l-.94 2.06-2.06.94zm10 10l.94 2.06.94-2.06 2.06-.94-2.06-.94-.94-2.06-.94 2.06-2.06.94z\"/><path d=\"M17.41 7.96l-1.37-1.37c-.4-.4-.92-.59-1.43-.59-.52 0-1.04.2-1.43.59L10.3 9.45l-7.72 7.72c-.78.78-.78 2.05 0 2.83L4 21.41c.39.39.9.59 1.41.59.51 0 1.02-.2 1.41-.59l7.78-7.78 2.81-2.81c.8-.78.8-2.07 0-2.86zM5.41 20L4 18.59l7.72-7.72 1.47 1.35L5.41 20z\"/>\n",
              "  </svg>\n",
              "      </button>\n",
              "      \n",
              "  <style>\n",
              "    .colab-df-container {\n",
              "      display:flex;\n",
              "      flex-wrap:wrap;\n",
              "      gap: 12px;\n",
              "    }\n",
              "\n",
              "    .colab-df-convert {\n",
              "      background-color: #E8F0FE;\n",
              "      border: none;\n",
              "      border-radius: 50%;\n",
              "      cursor: pointer;\n",
              "      display: none;\n",
              "      fill: #1967D2;\n",
              "      height: 32px;\n",
              "      padding: 0 0 0 0;\n",
              "      width: 32px;\n",
              "    }\n",
              "\n",
              "    .colab-df-convert:hover {\n",
              "      background-color: #E2EBFA;\n",
              "      box-shadow: 0px 1px 2px rgba(60, 64, 67, 0.3), 0px 1px 3px 1px rgba(60, 64, 67, 0.15);\n",
              "      fill: #174EA6;\n",
              "    }\n",
              "\n",
              "    [theme=dark] .colab-df-convert {\n",
              "      background-color: #3B4455;\n",
              "      fill: #D2E3FC;\n",
              "    }\n",
              "\n",
              "    [theme=dark] .colab-df-convert:hover {\n",
              "      background-color: #434B5C;\n",
              "      box-shadow: 0px 1px 3px 1px rgba(0, 0, 0, 0.15);\n",
              "      filter: drop-shadow(0px 1px 2px rgba(0, 0, 0, 0.3));\n",
              "      fill: #FFFFFF;\n",
              "    }\n",
              "  </style>\n",
              "\n",
              "      <script>\n",
              "        const buttonEl =\n",
              "          document.querySelector('#df-73cfe1bf-0ba5-4db3-b6ad-0a786a97f8ef button.colab-df-convert');\n",
              "        buttonEl.style.display =\n",
              "          google.colab.kernel.accessAllowed ? 'block' : 'none';\n",
              "\n",
              "        async function convertToInteractive(key) {\n",
              "          const element = document.querySelector('#df-73cfe1bf-0ba5-4db3-b6ad-0a786a97f8ef');\n",
              "          const dataTable =\n",
              "            await google.colab.kernel.invokeFunction('convertToInteractive',\n",
              "                                                     [key], {});\n",
              "          if (!dataTable) return;\n",
              "\n",
              "          const docLinkHtml = 'Like what you see? Visit the ' +\n",
              "            '<a target=\"_blank\" href=https://colab.research.google.com/notebooks/data_table.ipynb>data table notebook</a>'\n",
              "            + ' to learn more about interactive tables.';\n",
              "          element.innerHTML = '';\n",
              "          dataTable['output_type'] = 'display_data';\n",
              "          await google.colab.output.renderOutput(dataTable, element);\n",
              "          const docLink = document.createElement('div');\n",
              "          docLink.innerHTML = docLinkHtml;\n",
              "          element.appendChild(docLink);\n",
              "        }\n",
              "      </script>\n",
              "    </div>\n",
              "  </div>\n",
              "  "
            ]
          },
          "metadata": {},
          "execution_count": 126
        }
      ]
    },
    {
      "cell_type": "code",
      "source": [
        "#Checking who got more loan approvals\n",
        "df.value_counts(['Gender'])\n",
        "#Males have got more loan approvals than females."
      ],
      "metadata": {
        "colab": {
          "base_uri": "https://localhost:8080/"
        },
        "id": "qTB__xMFkhmj",
        "outputId": "c4127677-8e12-414c-9422-65470caecede"
      },
      "execution_count": null,
      "outputs": [
        {
          "output_type": "execute_result",
          "data": {
            "text/plain": [
              "Gender\n",
              "Male      286\n",
              "Female     70\n",
              "dtype: int64"
            ]
          },
          "metadata": {},
          "execution_count": 127
        }
      ]
    },
    {
      "cell_type": "code",
      "source": [
        "#Visualization\n",
        "import seaborn as sns\n",
        "sns.distplot(df['Loan_Amount'])"
      ],
      "metadata": {
        "colab": {
          "base_uri": "https://localhost:8080/",
          "height": 506
        },
        "id": "A42glvjnnBEZ",
        "outputId": "ba348b85-971c-4395-b6da-525d5132ec5b"
      },
      "execution_count": null,
      "outputs": [
        {
          "output_type": "stream",
          "name": "stderr",
          "text": [
            "<ipython-input-128-27242e706083>:3: UserWarning: \n",
            "\n",
            "`distplot` is a deprecated function and will be removed in seaborn v0.14.0.\n",
            "\n",
            "Please adapt your code to use either `displot` (a figure-level function with\n",
            "similar flexibility) or `histplot` (an axes-level function for histograms).\n",
            "\n",
            "For a guide to updating your code to use the new functions, please see\n",
            "https://gist.github.com/mwaskom/de44147ed2974457ad6372750bbe5751\n",
            "\n",
            "  sns.distplot(df['Loan_Amount'])\n"
          ]
        },
        {
          "output_type": "execute_result",
          "data": {
            "text/plain": [
              "<Axes: xlabel='Loan_Amount', ylabel='Density'>"
            ]
          },
          "metadata": {},
          "execution_count": 128
        },
        {
          "output_type": "display_data",
          "data": {
            "text/plain": [
              "<Figure size 432x288 with 1 Axes>"
            ],
            "image/png": "[encoded data removed]"
          },
          "metadata": {
            "needs_background": "light"
          }
        }
      ]
    },
    {
      "cell_type": "code",
      "source": [
        "#Highest loan amount that has been approved\n",
        "import numpy as np\n",
        "np.max(df['Loan_Amount'])"
      ],
      "metadata": {
        "colab": {
          "base_uri": "https://localhost:8080/"
        },
        "id": "t22aBfRgouph",
        "outputId": "98d3284f-bde2-4602-cb9f-d5ea5db63c46"
      },
      "execution_count": null,
      "outputs": [
        {
          "output_type": "execute_result",
          "data": {
            "text/plain": [
              "55000000"
            ]
          },
          "metadata": {},
          "execution_count": 129
        }
      ]
    },
    {
      "cell_type": "code",
      "source": [
        "sns.distplot(df['Applicant_Income'])"
      ],
      "metadata": {
        "colab": {
          "base_uri": "https://localhost:8080/",
          "height": 506
        },
        "id": "TR6scN9joOS0",
        "outputId": "4ad833fd-0028-47bd-aa55-e5d0722773ad"
      },
      "execution_count": null,
      "outputs": [
        {
          "output_type": "stream",
          "name": "stderr",
          "text": [
            "<ipython-input-130-8f9e00b3b52f>:1: UserWarning: \n",
            "\n",
            "`distplot` is a deprecated function and will be removed in seaborn v0.14.0.\n",
            "\n",
            "Please adapt your code to use either `displot` (a figure-level function with\n",
            "similar flexibility) or `histplot` (an axes-level function for histograms).\n",
            "\n",
            "For a guide to updating your code to use the new functions, please see\n",
            "https://gist.github.com/mwaskom/de44147ed2974457ad6372750bbe5751\n",
            "\n",
            "  sns.distplot(df['Applicant_Income'])\n"
          ]
        },
        {
          "output_type": "execute_result",
          "data": {
            "text/plain": [
              "<Axes: xlabel='Applicant_Income', ylabel='Density'>"
            ]
          },
          "metadata": {},
          "execution_count": 130
        },
        {
          "output_type": "display_data",
          "data": {
            "text/plain": [
              "<Figure size 432x288 with 1 Axes>"
            ],
            "image/png": "[encoded data removed]"
          },
          "metadata": {
            "needs_background": "light"
          }
        }
      ]
    },
    {
      "cell_type": "code",
      "source": [
        "#checking the null values\n",
        "df.isna().sum()"
      ],
      "metadata": {
        "colab": {
          "base_uri": "https://localhost:8080/"
        },
        "id": "Amykg5_eoYs2",
        "outputId": "c23c23c6-f6ef-4de2-a251-cc509a7b5059"
      },
      "execution_count": null,
      "outputs": [
        {
          "output_type": "execute_result",
          "data": {
            "text/plain": [
              "Gender                11\n",
              "Married                0\n",
              "Self_Employed         23\n",
              "Applicant_Income       0\n",
              "Coapplicant_Income     0\n",
              "Loan_Amount            0\n",
              "Term                   6\n",
              "Credit_History        29\n",
              "dtype: int64"
            ]
          },
          "metadata": {},
          "execution_count": 131
        }
      ]
    },
    {
      "cell_type": "code",
      "source": [
        "df.isnull().sum()"
      ],
      "metadata": {
        "colab": {
          "base_uri": "https://localhost:8080/"
        },
        "id": "jPsW49XrsnfG",
        "outputId": "70842aa6-0a1d-4042-dd01-cc4f2d33aa3e"
      },
      "execution_count": null,
      "outputs": [
        {
          "output_type": "execute_result",
          "data": {
            "text/plain": [
              "Gender                11\n",
              "Married                0\n",
              "Self_Employed         23\n",
              "Applicant_Income       0\n",
              "Coapplicant_Income     0\n",
              "Loan_Amount            0\n",
              "Term                   6\n",
              "Credit_History        29\n",
              "dtype: int64"
            ]
          },
          "metadata": {},
          "execution_count": 132
        }
      ]
    },
    {
      "cell_type": "code",
      "source": [
        "import pandas as pd\n",
        "from sklearn.preprocessing import LabelEncoder ## converts the string to numerical format\n",
        "\n",
        "\n",
        "le = LabelEncoder()\n",
        "df['Married'] = le.fit_transform(df['Married']) #No - 0, yes - 1\n",
        "df['Gender'] = le.fit_transform(df['Gender']) #1 - Male, 0- Female\n",
        "df['Self_Employed'] = le.fit_transform(df['Self_Employed']) #No - 0, yes -1\n",
        "df = df.dropna() #dropping the null values\n",
        "df"
      ],
      "metadata": {
        "colab": {
          "base_uri": "https://localhost:8080/",
          "height": 423
        },
        "id": "EtDm6HN-3erP",
        "outputId": "f1d72b5d-ff6b-4dda-e81d-c3db4f661343"
      },
      "execution_count": null,
      "outputs": [
        {
          "output_type": "execute_result",
          "data": {
            "text/plain": [
              "     Gender  Married  Self_Employed  Applicant_Income  Coapplicant_Income  \\\n",
              "0         1        1              0            572000                   0   \n",
              "1         1        1              0            307600              150000   \n",
              "2         1        1              0            500000              180000   \n",
              "4         1        0              0            327600                   0   \n",
              "5         1        1              1            216500              342200   \n",
              "..      ...      ...            ...               ...                 ...   \n",
              "361       1        1              0            226900              216700   \n",
              "362       1        1              1            400900              177700   \n",
              "363       1        1              0            415800               70900   \n",
              "365       1        1              0            500000              239300   \n",
              "366       1        0              1            920000                   0   \n",
              "\n",
              "     Loan_Amount   Term  Credit_History  \n",
              "0       11000000  360.0             1.0  \n",
              "1       12600000  360.0             1.0  \n",
              "2       20800000  360.0             1.0  \n",
              "4        7800000  360.0             1.0  \n",
              "5       15200000  360.0             1.0  \n",
              "..           ...    ...             ...  \n",
              "361      9900000  360.0             1.0  \n",
              "362     11300000  360.0             1.0  \n",
              "363     11500000  360.0             1.0  \n",
              "365     15800000  360.0             1.0  \n",
              "366      9800000  180.0             1.0  \n",
              "\n",
              "[333 rows x 8 columns]"
            ],
            "text/html": [
              "\n",
              "  <div id=\"df-c70f8f71-a348-4995-bdb7-774c9c9e665c\">\n",
              "    <div class=\"colab-df-container\">\n",
              "      <div>\n",
              "<style scoped>\n",
              "    .dataframe tbody tr th:only-of-type {\n",
              "        vertical-align: middle;\n",
              "    }\n",
              "\n",
              "    .dataframe tbody tr th {\n",
              "        vertical-align: top;\n",
              "    }\n",
              "\n",
              "    .dataframe thead th {\n",
              "        text-align: right;\n",
              "    }\n",
              "</style>\n",
              "<table border=\"1\" class=\"dataframe\">\n",
              "  <thead>\n",
              "    <tr style=\"text-align: right;\">\n",
              "      <th></th>\n",
              "      <th>Gender</th>\n",
              "      <th>Married</th>\n",
              "      <th>Self_Employed</th>\n",
              "      <th>Applicant_Income</th>\n",
              "      <th>Coapplicant_Income</th>\n",
              "      <th>Loan_Amount</th>\n",
              "      <th>Term</th>\n",
              "      <th>Credit_History</th>\n",
              "    </tr>\n",
              "  </thead>\n",
              "  <tbody>\n",
              "    <tr>\n",
              "      <th>0</th>\n",
              "      <td>1</td>\n",
              "      <td>1</td>\n",
              "      <td>0</td>\n",
              "      <td>572000</td>\n",
              "      <td>0</td>\n",
              "      <td>11000000</td>\n",
              "      <td>360.0</td>\n",
              "      <td>1.0</td>\n",
              "    </tr>\n",
              "    <tr>\n",
              "      <th>1</th>\n",
              "      <td>1</td>\n",
              "      <td>1</td>\n",
              "      <td>0</td>\n",
              "      <td>307600</td>\n",
              "      <td>150000</td>\n",
              "      <td>12600000</td>\n",
              "      <td>360.0</td>\n",
              "      <td>1.0</td>\n",
              "    </tr>\n",
              "    <tr>\n",
              "      <th>2</th>\n",
              "      <td>1</td>\n",
              "      <td>1</td>\n",
              "      <td>0</td>\n",
              "      <td>500000</td>\n",
              "      <td>180000</td>\n",
              "      <td>20800000</td>\n",
              "      <td>360.0</td>\n",
              "      <td>1.0</td>\n",
              "    </tr>\n",
              "    <tr>\n",
              "      <th>4</th>\n",
              "      <td>1</td>\n",
              "      <td>0</td>\n",
              "      <td>0</td>\n",
              "      <td>327600</td>\n",
              "      <td>0</td>\n",
              "      <td>7800000</td>\n",
              "      <td>360.0</td>\n",
              "      <td>1.0</td>\n",
              "    </tr>\n",
              "    <tr>\n",
              "      <th>5</th>\n",
              "      <td>1</td>\n",
              "      <td>1</td>\n",
              "      <td>1</td>\n",
              "      <td>216500</td>\n",
              "      <td>342200</td>\n",
              "      <td>15200000</td>\n",
              "      <td>360.0</td>\n",
              "      <td>1.0</td>\n",
              "    </tr>\n",
              "    <tr>\n",
              "      <th>...</th>\n",
              "      <td>...</td>\n",
              "      <td>...</td>\n",
              "      <td>...</td>\n",
              "      <td>...</td>\n",
              "      <td>...</td>\n",
              "      <td>...</td>\n",
              "      <td>...</td>\n",
              "      <td>...</td>\n",
              "    </tr>\n",
              "    <tr>\n",
              "      <th>361</th>\n",
              "      <td>1</td>\n",
              "      <td>1</td>\n",
              "      <td>0</td>\n",
              "      <td>226900</td>\n",
              "      <td>216700</td>\n",
              "      <td>9900000</td>\n",
              "      <td>360.0</td>\n",
              "      <td>1.0</td>\n",
              "    </tr>\n",
              "    <tr>\n",
              "      <th>362</th>\n",
              "      <td>1</td>\n",
              "      <td>1</td>\n",
              "      <td>1</td>\n",
              "      <td>400900</td>\n",
              "      <td>177700</td>\n",
              "      <td>11300000</td>\n",
              "      <td>360.0</td>\n",
              "      <td>1.0</td>\n",
              "    </tr>\n",
              "    <tr>\n",
              "      <th>363</th>\n",
              "      <td>1</td>\n",
              "      <td>1</td>\n",
              "      <td>0</td>\n",
              "      <td>415800</td>\n",
              "      <td>70900</td>\n",
              "      <td>11500000</td>\n",
              "      <td>360.0</td>\n",
              "      <td>1.0</td>\n",
              "    </tr>\n",
              "    <tr>\n",
              "      <th>365</th>\n",
              "      <td>1</td>\n",
              "      <td>1</td>\n",
              "      <td>0</td>\n",
              "      <td>500000</td>\n",
              "      <td>239300</td>\n",
              "      <td>15800000</td>\n",
              "      <td>360.0</td>\n",
              "      <td>1.0</td>\n",
              "    </tr>\n",
              "    <tr>\n",
              "      <th>366</th>\n",
              "      <td>1</td>\n",
              "      <td>0</td>\n",
              "      <td>1</td>\n",
              "      <td>920000</td>\n",
              "      <td>0</td>\n",
              "      <td>9800000</td>\n",
              "      <td>180.0</td>\n",
              "      <td>1.0</td>\n",
              "    </tr>\n",
              "  </tbody>\n",
              "</table>\n",
              "<p>333 rows × 8 columns</p>\n",
              "</div>\n",
              "      <button class=\"colab-df-convert\" onclick=\"convertToInteractive('df-c70f8f71-a348-4995-bdb7-774c9c9e665c')\"\n",
              "              title=\"Convert this dataframe to an interactive table.\"\n",
              "              style=\"display:none;\">\n",
              "        \n",
              "  <svg xmlns=\"http://www.w3.org/2000/svg\" height=\"24px\"viewBox=\"0 0 24 24\"\n",
              "       width=\"24px\">\n",
              "    <path d=\"M0 0h24v24H0V0z\" fill=\"none\"/>\n",
              "    <path d=\"M18.56 5.44l.94 2.06.94-2.06 2.06-.94-2.06-.94-.94-2.06-.94 2.06-2.06.94zm-11 1L8.5 8.5l.94-2.06 2.06-.94-2.06-.94L8.5 2.5l-.94 2.06-2.06.94zm10 10l.94 2.06.94-2.06 2.06-.94-2.06-.94-.94-2.06-.94 2.06-2.06.94z\"/><path d=\"M17.41 7.96l-1.37-1.37c-.4-.4-.92-.59-1.43-.59-.52 0-1.04.2-1.43.59L10.3 9.45l-7.72 7.72c-.78.78-.78 2.05 0 2.83L4 21.41c.39.39.9.59 1.41.59.51 0 1.02-.2 1.41-.59l7.78-7.78 2.81-2.81c.8-.78.8-2.07 0-2.86zM5.41 20L4 18.59l7.72-7.72 1.47 1.35L5.41 20z\"/>\n",
              "  </svg>\n",
              "      </button>\n",
              "      \n",
              "  <style>\n",
              "    .colab-df-container {\n",
              "      display:flex;\n",
              "      flex-wrap:wrap;\n",
              "      gap: 12px;\n",
              "    }\n",
              "\n",
              "    .colab-df-convert {\n",
              "      background-color: #E8F0FE;\n",
              "      border: none;\n",
              "      border-radius: 50%;\n",
              "      cursor: pointer;\n",
              "      display: none;\n",
              "      fill: #1967D2;\n",
              "      height: 32px;\n",
              "      padding: 0 0 0 0;\n",
              "      width: 32px;\n",
              "    }\n",
              "\n",
              "    .colab-df-convert:hover {\n",
              "      background-color: #E2EBFA;\n",
              "      box-shadow: 0px 1px 2px rgba(60, 64, 67, 0.3), 0px 1px 3px 1px rgba(60, 64, 67, 0.15);\n",
              "      fill: #174EA6;\n",
              "    }\n",
              "\n",
              "    [theme=dark] .colab-df-convert {\n",
              "      background-color: #3B4455;\n",
              "      fill: #D2E3FC;\n",
              "    }\n",
              "\n",
              "    [theme=dark] .colab-df-convert:hover {\n",
              "      background-color: #434B5C;\n",
              "      box-shadow: 0px 1px 3px 1px rgba(0, 0, 0, 0.15);\n",
              "      filter: drop-shadow(0px 1px 2px rgba(0, 0, 0, 0.3));\n",
              "      fill: #FFFFFF;\n",
              "    }\n",
              "  </style>\n",
              "\n",
              "      <script>\n",
              "        const buttonEl =\n",
              "          document.querySelector('#df-c70f8f71-a348-4995-bdb7-774c9c9e665c button.colab-df-convert');\n",
              "        buttonEl.style.display =\n",
              "          google.colab.kernel.accessAllowed ? 'block' : 'none';\n",
              "\n",
              "        async function convertToInteractive(key) {\n",
              "          const element = document.querySelector('#df-c70f8f71-a348-4995-bdb7-774c9c9e665c');\n",
              "          const dataTable =\n",
              "            await google.colab.kernel.invokeFunction('convertToInteractive',\n",
              "                                                     [key], {});\n",
              "          if (!dataTable) return;\n",
              "\n",
              "          const docLinkHtml = 'Like what you see? Visit the ' +\n",
              "            '<a target=\"_blank\" href=https://colab.research.google.com/notebooks/data_table.ipynb>data table notebook</a>'\n",
              "            + ' to learn more about interactive tables.';\n",
              "          element.innerHTML = '';\n",
              "          dataTable['output_type'] = 'display_data';\n",
              "          await google.colab.output.renderOutput(dataTable, element);\n",
              "          const docLink = document.createElement('div');\n",
              "          docLink.innerHTML = docLinkHtml;\n",
              "          element.appendChild(docLink);\n",
              "        }\n",
              "      </script>\n",
              "    </div>\n",
              "  </div>\n",
              "  "
            ]
          },
          "metadata": {},
          "execution_count": 133
        }
      ]
    },
    {
      "cell_type": "code",
      "source": [
        "#Dividing the data into input and output\n",
        "x = df.drop('Loan_Amount', axis=1).loc[:,'Gender': ].values #input is all the columns except the Loan Amount so here we are dropping\n",
        "x                                                    #that column and sliccing."
      ],
      "metadata": {
        "colab": {
          "base_uri": "https://localhost:8080/"
        },
        "id": "nz2I-oYzs9jh",
        "outputId": "d51250af-ba27-49e4-b805-b22477342396"
      },
      "execution_count": null,
      "outputs": [
        {
          "output_type": "execute_result",
          "data": {
            "text/plain": [
              "array([[1.000e+00, 1.000e+00, 0.000e+00, ..., 0.000e+00, 3.600e+02,\n",
              "        1.000e+00],\n",
              "       [1.000e+00, 1.000e+00, 0.000e+00, ..., 1.500e+05, 3.600e+02,\n",
              "        1.000e+00],\n",
              "       [1.000e+00, 1.000e+00, 0.000e+00, ..., 1.800e+05, 3.600e+02,\n",
              "        1.000e+00],\n",
              "       ...,\n",
              "       [1.000e+00, 1.000e+00, 0.000e+00, ..., 7.090e+04, 3.600e+02,\n",
              "        1.000e+00],\n",
              "       [1.000e+00, 1.000e+00, 0.000e+00, ..., 2.393e+05, 3.600e+02,\n",
              "        1.000e+00],\n",
              "       [1.000e+00, 0.000e+00, 1.000e+00, ..., 0.000e+00, 1.800e+02,\n",
              "        1.000e+00]])"
            ]
          },
          "metadata": {},
          "execution_count": 134
        }
      ]
    },
    {
      "cell_type": "code",
      "source": [
        "y= df.iloc[:,5].values\n",
        "y"
      ],
      "metadata": {
        "colab": {
          "base_uri": "https://localhost:8080/"
        },
        "id": "S5gKEEr9xFGR",
        "outputId": "794bc7b9-6aeb-4e7d-cbd0-5705df14f3bc"
      },
      "execution_count": null,
      "outputs": [
        {
          "output_type": "execute_result",
          "data": {
            "text/plain": [
              "array([11000000, 12600000, 20800000,  7800000, 15200000,  5900000,\n",
              "       14700000, 28000000, 12300000,  9000000, 16200000, 16600000,\n",
              "       12400000, 13100000, 20000000, 12600000, 30000000, 10000000,\n",
              "        4800000,  2800000, 10100000, 12500000, 29000000, 14800000,\n",
              "       27500000, 12500000,  7500000, 19200000, 15200000, 15800000,\n",
              "       10100000, 17600000, 18500000,  9000000, 11600000, 13800000,\n",
              "       10000000, 11000000,  9000000, 20000000,  8400000, 16200000,\n",
              "       10800000, 18700000, 12400000, 12000000, 16000000,  3000000,\n",
              "        9200000, 13000000, 13000000, 13400000, 17600000,  9000000,\n",
              "       11000000, 12500000, 18900000, 10800000, 12500000, 13800000,\n",
              "       13500000, 13000000, 18700000, 18800000,  9500000,  6500000,\n",
              "       13900000, 23200000, 14400000, 15500000, 18600000,  5000000,\n",
              "              0, 18500000, 16300000, 36000000, 14900000, 25700000,\n",
              "       13100000, 10200000, 13500000,  9500000,  7700000, 20000000,\n",
              "       39000000, 18500000, 10000000, 12300000, 11000000, 25600000,\n",
              "       14000000,  6100000, 13100000,        0, 11600000,  5000000,\n",
              "       20000000, 11900000, 12000000, 14000000, 16500000, 10800000,\n",
              "        9300000, 10200000, 12200000, 16000000, 18000000, 10400000,\n",
              "       21300000,  6500000, 14600000, 13500000, 18700000, 30000000,\n",
              "       12000000,  7100000, 22500000,  7000000, 12400000, 13200000,\n",
              "       10500000,  9000000,  8300000, 12500000, 14700000, 12000000,\n",
              "       11000000, 15000000, 10000000, 13900000, 26000000, 15000000,\n",
              "        9000000, 19900000, 13900000, 15000000, 18000000, 11300000,\n",
              "       14800000, 11700000,  7200000, 12500000, 21400000, 13300000,\n",
              "       18700000, 14300000, 20900000,  8400000, 11600000,  6500000,\n",
              "       17000000, 12000000, 13500000,  9400000,  7900000, 11000000,\n",
              "       13000000, 14300000, 15900000, 11000000, 16000000, 13100000,\n",
              "       14300000, 16000000, 16500000, 11000000, 17300000, 15000000,\n",
              "       23500000,        0, 33600000, 13200000,  9600000, 18000000,\n",
              "       12800000, 41200000, 11600000, 11400000, 11500000, 10400000,\n",
              "        8800000, 10800000,  9000000, 10800000,  7800000, 12300000,\n",
              "       18700000, 14600000,  8000000, 10000000,  5500000, 20000000,\n",
              "       15000000, 15000000, 15000000, 11800000, 21200000, 21200000,\n",
              "       12500000, 14900000,  8000000, 15200000, 18700000,  7400000,\n",
              "       10200000, 10000000, 13000000, 12500000, 13000000, 13800000,\n",
              "        2800000,  9200000, 10400000, 17600000, 11700000, 10200000,\n",
              "       10700000,  6600000, 10500000, 10500000, 10500000, 12500000,\n",
              "        6400000, 15000000, 15000000,        0,  6400000,  4000000,\n",
              "       14200000,  7000000, 13100000, 12000000, 11400000, 12300000,\n",
              "        9200000, 16000000, 15100000, 17100000, 11000000, 23400000,\n",
              "       18400000, 11200000, 11700000,  4900000,  9900000,  9900000,\n",
              "       21200000, 24000000, 13000000,  9400000, 10800000, 14400000,\n",
              "       11000000, 17600000, 18500000, 12200000, 12600000, 12200000,\n",
              "       46000000, 29700000, 10600000, 14100000,        0, 17000000,\n",
              "       14500000,  9000000,  8800000, 12800000,  8400000, 10800000,\n",
              "        8300000, 11700000, 12800000,  7500000, 12500000, 17700000,\n",
              "        6800000,  9600000, 18300000, 12100000, 16200000, 13200000,\n",
              "       14700000, 15300000, 10400000, 14900000, 13400000, 16500000,\n",
              "       12000000,  6700000, 12500000, 12000000, 14800000, 18100000,\n",
              "        8000000,  4000000,  9000000,  9500000, 12200000, 15000000,\n",
              "       15000000, 14300000, 30000000, 17100000, 11300000,  3500000,\n",
              "        4600000, 11900000,  8700000, 16200000, 12200000, 18700000,\n",
              "        8100000,  8000000, 17600000, 26000000, 13300000,  7000000,\n",
              "       13500000, 13700000, 25400000, 10900000, 12000000, 15800000,\n",
              "       19700000,  8500000,  6000000, 15200000,  9900000, 11300000,\n",
              "       11500000, 15800000,  9800000])"
            ]
          },
          "metadata": {},
          "execution_count": 135
        }
      ]
    },
    {
      "cell_type": "code",
      "source": [
        "#Training and Testing variables\n",
        "from sklearn.model_selection import train_test_split\n",
        "x_train,x_test,y_train,y_test = train_test_split(x,y,random_state = 0)"
      ],
      "metadata": {
        "id": "qxIkFcpUxy1G"
      },
      "execution_count": null,
      "outputs": []
    },
    {
      "cell_type": "code",
      "source": [
        "print(x.shape) \n",
        "print(x_train.shape) \n",
        "print(x_test.shape)"
      ],
      "metadata": {
        "colab": {
          "base_uri": "https://localhost:8080/"
        },
        "id": "kryFNd-fysa6",
        "outputId": "c68613a7-e46a-4492-c17e-33cbaa3668bc"
      },
      "execution_count": null,
      "outputs": [
        {
          "output_type": "stream",
          "name": "stdout",
          "text": [
            "(333, 7)\n",
            "(249, 7)\n",
            "(84, 7)\n"
          ]
        }
      ]
    },
    {
      "cell_type": "code",
      "source": [
        "print(y.shape) \n",
        "print(y_train.shape) \n",
        "print(y_test.shape)"
      ],
      "metadata": {
        "colab": {
          "base_uri": "https://localhost:8080/"
        },
        "id": "IpOyxafMy5ic",
        "outputId": "b82a8d44-9b6a-4d6a-a0b3-33c763fe245c"
      },
      "execution_count": null,
      "outputs": [
        {
          "output_type": "stream",
          "name": "stdout",
          "text": [
            "(333,)\n",
            "(249,)\n",
            "(84,)\n"
          ]
        }
      ]
    },
    {
      "cell_type": "code",
      "source": [
        "#RUN a CLASSIFIER/REGRESSOR/CLUSTERER\n",
        "from sklearn.linear_model import LinearRegression\n",
        "model = LinearRegression()"
      ],
      "metadata": {
        "id": "QEHBQmj3y_l7"
      },
      "execution_count": null,
      "outputs": []
    },
    {
      "cell_type": "code",
      "source": [
        "#MODEL FITTING\n",
        "model.fit(x_train,y_train)"
      ],
      "metadata": {
        "colab": {
          "base_uri": "https://localhost:8080/",
          "height": 74
        },
        "id": "SFXDFhLn0VgZ",
        "outputId": "ed67bf6e-5c49-40c6-cb1c-6df664dd2014"
      },
      "execution_count": null,
      "outputs": [
        {
          "output_type": "execute_result",
          "data": {
            "text/plain": [
              "LinearRegression()"
            ],
            "text/html": [
              "<style>#sk-container-id-2 {color: black;background-color: white;}#sk-container-id-2 pre{padding: 0;}#sk-container-id-2 div.sk-toggleable {background-color: white;}#sk-container-id-2 label.sk-toggleable__label {cursor: pointer;display: block;width: 100%;margin-bottom: 0;padding: 0.3em;box-sizing: border-box;text-align: center;}#sk-container-id-2 label.sk-toggleable__label-arrow:before {content: \"▸\";float: left;margin-right: 0.25em;color: #696969;}#sk-container-id-2 label.sk-toggleable__label-arrow:hover:before {color: black;}#sk-container-id-2 div.sk-estimator:hover label.sk-toggleable__label-arrow:before {color: black;}#sk-container-id-2 div.sk-toggleable__content {max-height: 0;max-width: 0;overflow: hidden;text-align: left;background-color: #f0f8ff;}#sk-container-id-2 div.sk-toggleable__content pre {margin: 0.2em;color: black;border-radius: 0.25em;background-color: #f0f8ff;}#sk-container-id-2 input.sk-toggleable__control:checked~div.sk-toggleable__content {max-height: 200px;max-width: 100%;overflow: auto;}#sk-container-id-2 input.sk-toggleable__control:checked~label.sk-toggleable__label-arrow:before {content: \"▾\";}#sk-container-id-2 div.sk-estimator input.sk-toggleable__control:checked~label.sk-toggleable__label {background-color: #d4ebff;}#sk-container-id-2 div.sk-label input.sk-toggleable__control:checked~label.sk-toggleable__label {background-color: #d4ebff;}#sk-container-id-2 input.sk-hidden--visually {border: 0;clip: rect(1px 1px 1px 1px);clip: rect(1px, 1px, 1px, 1px);height: 1px;margin: -1px;overflow: hidden;padding: 0;position: absolute;width: 1px;}#sk-container-id-2 div.sk-estimator {font-family: monospace;background-color: #f0f8ff;border: 1px dotted black;border-radius: 0.25em;box-sizing: border-box;margin-bottom: 0.5em;}#sk-container-id-2 div.sk-estimator:hover {background-color: #d4ebff;}#sk-container-id-2 div.sk-parallel-item::after {content: \"\";width: 100%;border-bottom: 1px solid gray;flex-grow: 1;}#sk-container-id-2 div.sk-label:hover label.sk-toggleable__label {background-color: #d4ebff;}#sk-container-id-2 div.sk-serial::before {content: \"\";position: absolute;border-left: 1px solid gray;box-sizing: border-box;top: 0;bottom: 0;left: 50%;z-index: 0;}#sk-container-id-2 div.sk-serial {display: flex;flex-direction: column;align-items: center;background-color: white;padding-right: 0.2em;padding-left: 0.2em;position: relative;}#sk-container-id-2 div.sk-item {position: relative;z-index: 1;}#sk-container-id-2 div.sk-parallel {display: flex;align-items: stretch;justify-content: center;background-color: white;position: relative;}#sk-container-id-2 div.sk-item::before, #sk-container-id-2 div.sk-parallel-item::before {content: \"\";position: absolute;border-left: 1px solid gray;box-sizing: border-box;top: 0;bottom: 0;left: 50%;z-index: -1;}#sk-container-id-2 div.sk-parallel-item {display: flex;flex-direction: column;z-index: 1;position: relative;background-color: white;}#sk-container-id-2 div.sk-parallel-item:first-child::after {align-self: flex-end;width: 50%;}#sk-container-id-2 div.sk-parallel-item:last-child::after {align-self: flex-start;width: 50%;}#sk-container-id-2 div.sk-parallel-item:only-child::after {width: 0;}#sk-container-id-2 div.sk-dashed-wrapped {border: 1px dashed gray;margin: 0 0.4em 0.5em 0.4em;box-sizing: border-box;padding-bottom: 0.4em;background-color: white;}#sk-container-id-2 div.sk-label label {font-family: monospace;font-weight: bold;display: inline-block;line-height: 1.2em;}#sk-container-id-2 div.sk-label-container {text-align: center;}#sk-container-id-2 div.sk-container {/* jupyter's `normalize.less` sets `[hidden] { display: none; }` but bootstrap.min.css set `[hidden] { display: none !important; }` so we also need the `!important` here to be able to override the default hidden behavior on the sphinx rendered scikit-learn.org. See: https://github.com/scikit-learn/scikit-learn/issues/21755 */display: inline-block !important;position: relative;}#sk-container-id-2 div.sk-text-repr-fallback {display: none;}</style><div id=\"sk-container-id-2\" class=\"sk-top-container\"><div class=\"sk-text-repr-fallback\"><pre>LinearRegression()</pre><b>In a Jupyter environment, please rerun this cell to show the HTML representation or trust the notebook. <br />On GitHub, the HTML representation is unable to render, please try loading this page with nbviewer.org.</b></div><div class=\"sk-container\" hidden><div class=\"sk-item\"><div class=\"sk-estimator sk-toggleable\"><input class=\"sk-toggleable__control sk-hidden--visually\" id=\"sk-estimator-id-2\" type=\"checkbox\" checked><label for=\"sk-estimator-id-2\" class=\"sk-toggleable__label sk-toggleable__label-arrow\">LinearRegression</label><div class=\"sk-toggleable__content\"><pre>LinearRegression()</pre></div></div></div></div></div>"
            ]
          },
          "metadata": {},
          "execution_count": 140
        }
      ]
    },
    {
      "cell_type": "code",
      "source": [
        "#PREDICTING THE OUTPUT\n",
        "y_pred = model.predict(x_test)#By taking the input testing data , we are predicting the output\n",
        "y_pred #PREDICTED VALUES"
      ],
      "metadata": {
        "colab": {
          "base_uri": "https://localhost:8080/"
        },
        "id": "i4_Q55Cd0YCG",
        "outputId": "e6c8780f-b5bf-4aea-99dc-17a502d30ffa"
      },
      "execution_count": null,
      "outputs": [
        {
          "output_type": "execute_result",
          "data": {
            "text/plain": [
              "array([12149266.85082742, 12559430.74255981, 11610120.11411073,\n",
              "       12562440.38350965, 13858522.41993775, 10356539.57959394,\n",
              "       15402520.81716858, 13681040.65084167, 21326553.15988402,\n",
              "       13432031.28620172, 13807962.55103809, 13181246.23580131,\n",
              "       12877156.50850145, 16437675.07845588, 12422588.80930341,\n",
              "       10522032.1522628 , 10792669.40882197,  9265482.87931693,\n",
              "       11713191.47224844, 11592939.14675685, 12966515.1846955 ,\n",
              "       12374072.3502399 , 13229470.2463038 , 11164047.04519362,\n",
              "       13026917.63038287, 13735682.76246626, 14459118.3056553 ,\n",
              "       11303955.06304936, 10962846.48316486, 12685862.28468577,\n",
              "        9987488.41333945, 16725067.86145146, 12857194.00566589,\n",
              "       10850890.81162697, 14745049.82541761, 15013594.588404  ,\n",
              "       16438987.63344254, 13352654.60274816, 14796942.86010502,\n",
              "       14591317.94709039, 14522049.70103118, 13004030.88274316,\n",
              "       11087606.84158628, 17270277.7569616 , 12363433.84162338,\n",
              "       11330684.44454458, 14731899.34119296, 15495281.830745  ,\n",
              "       15193845.73812225, 11410255.60976532, 12261232.94727632,\n",
              "       11576068.57681214, 11956997.155357  ,  9737233.64442014,\n",
              "       12753666.08303529, 10421972.60318282, 11082365.62711066,\n",
              "       12005371.68976955, 11518415.21758034, 10327630.7426217 ,\n",
              "       12573238.50031338, 11403396.0338809 , 14002660.63002731,\n",
              "       10411890.80736789, 10511271.78943535, 14190867.87710631,\n",
              "       13420373.12860707, 13250227.80137711, 10907575.49414926,\n",
              "       13216737.23557314, 13464876.60710844, 11058743.27378616,\n",
              "       11493086.25238179, 13257209.88050828, 13175188.02734144,\n",
              "       13541512.13840101, 12748580.79545395, 13061433.78014636,\n",
              "       11470787.02272466, 10786074.61312357, 12505285.64811191,\n",
              "       13805455.16102991, 12811475.52193237, 12385129.24912806])"
            ]
          },
          "metadata": {},
          "execution_count": 141
        }
      ]
    },
    {
      "cell_type": "code",
      "source": [
        "y_test#ACTUAL VALUES"
      ],
      "metadata": {
        "colab": {
          "base_uri": "https://localhost:8080/"
        },
        "id": "qJLUxQgK5cRC",
        "outputId": "f492a9ec-1670-456c-d5c8-a8d51407c282"
      },
      "execution_count": null,
      "outputs": [
        {
          "output_type": "execute_result",
          "data": {
            "text/plain": [
              "array([18900000, 11000000,  6800000, 10800000, 13800000, 13000000,\n",
              "       21200000, 16200000, 10200000, 12500000, 18700000, 14900000,\n",
              "       18000000, 16000000, 12600000,  9000000, 10500000,  8300000,\n",
              "       13200000, 13100000, 16300000,  9300000, 15000000, 12200000,\n",
              "       11700000, 12500000, 12500000, 12500000,  7500000, 13900000,\n",
              "       11900000, 41200000, 21300000,  2800000, 17600000, 12000000,\n",
              "       33600000, 16500000, 23500000, 18800000, 17100000, 14200000,\n",
              "        6500000, 28000000, 14700000,  9500000, 14400000, 29000000,\n",
              "              0, 10200000, 11600000, 12500000, 15000000,  9500000,\n",
              "       13500000,  9500000, 13100000, 12400000, 11000000,  7000000,\n",
              "       14700000, 10000000, 22500000, 12500000, 10000000, 14300000,\n",
              "        9900000, 17100000,  5500000,  8400000, 13000000, 15900000,\n",
              "       14700000, 15000000, 18700000,  8800000, 12600000, 12200000,\n",
              "       12300000,  6400000,  8000000, 17600000, 12600000, 15200000])"
            ]
          },
          "metadata": {},
          "execution_count": 142
        }
      ]
    },
    {
      "cell_type": "code",
      "source": [
        "#Individual Prediction\n",
        "model.predict([x_train[10]])"
      ],
      "metadata": {
        "colab": {
          "base_uri": "https://localhost:8080/"
        },
        "id": "T594zGAs5hq5",
        "outputId": "557cc781-934b-48e5-be3d-9228d5a2f022"
      },
      "execution_count": null,
      "outputs": [
        {
          "output_type": "execute_result",
          "data": {
            "text/plain": [
              "array([12821053.78113022])"
            ]
          },
          "metadata": {},
          "execution_count": 143
        }
      ]
    },
    {
      "cell_type": "code",
      "source": [
        "model.predict([[1,1,0,600000,180000,360.0,1.0]])"
      ],
      "metadata": {
        "colab": {
          "base_uri": "https://localhost:8080/"
        },
        "id": "AZ96rl0z5pe5",
        "outputId": "00f73a6b-3d7f-4dcc-fe22-7a2ae4d174f0"
      },
      "execution_count": null,
      "outputs": [
        {
          "output_type": "execute_result",
          "data": {
            "text/plain": [
              "array([14312559.16442409])"
            ]
          },
          "metadata": {},
          "execution_count": 144
        }
      ]
    },
    {
      "cell_type": "code",
      "source": [],
      "metadata": {
        "id": "yDXGmzKb58a-"
      },
      "execution_count": null,
      "outputs": []
    }
  ]
}