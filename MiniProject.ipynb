{
  "nbformat": 4,
  "nbformat_minor": 0,
  "metadata": {
    "colab": {
      "provenance": []
    },
    "kernelspec": {
      "name": "python3",
      "display_name": "Python 3"
    },
    "language_info": {
      "name": "python"
    }
  },
  "cells": [
    {
      "cell_type": "code",
      "execution_count": null,
      "metadata": {
        "colab": {
          "base_uri": "https://localhost:8080/",
          "height": 423
        },
        "id": "_yUv8hskqheJ",
        "outputId": "80993a08-1402-46aa-b604-60b19df655d0"
      },
      "outputs": [
        {
          "output_type": "execute_result",
          "data": {
            "text/plain": [
              "     Serial Number           Country  Total Cases Total Deaths  \\\n",
              "0                1               USA  104,196,861    1,132,935   \n",
              "1                2             India   44,682,784      530,740   \n",
              "2                3            France   39,524,311      164,233   \n",
              "3                4           Germany   37,779,833      165,711   \n",
              "4                5            Brazil   36,824,580      697,074   \n",
              "..             ...               ...          ...          ...   \n",
              "226            227  Diamond Princess          712           13   \n",
              "227            228      Vatican City           29          NaN   \n",
              "228            229    Western Sahara           10            1   \n",
              "229            230        MS Zaandam            9            2   \n",
              "230            231           Tokelau            5          NaN   \n",
              "\n",
              "    Total Recovered Active Cases     Total Test     Population  \n",
              "0       101,322,779    1,741,147  1,159,832,679    334,805,269  \n",
              "1        44,150,289        1,755    915,265,788  1,406,631,776  \n",
              "2        39,264,546       95,532    271,490,188     65,584,518  \n",
              "3        37,398,100      216,022    122,332,384     83,883,596  \n",
              "4        35,919,372      208,134     63,776,166    215,353,593  \n",
              "..              ...          ...            ...            ...  \n",
              "226             699            0            NaN            NaN  \n",
              "227              29            0            NaN            799  \n",
              "228               9            0            NaN        626,161  \n",
              "229               7            0            NaN            NaN  \n",
              "230             NaN            5            NaN          1,378  \n",
              "\n",
              "[231 rows x 8 columns]"
            ],
            "text/html": [
              "\n",
              "  <div id=\"df-365103bf-8d45-4910-818f-1501769c05ba\">\n",
              "    <div class=\"colab-df-container\">\n",
              "      <div>\n",
              "<style scoped>\n",
              "    .dataframe tbody tr th:only-of-type {\n",
              "        vertical-align: middle;\n",
              "    }\n",
              "\n",
              "    .dataframe tbody tr th {\n",
              "        vertical-align: top;\n",
              "    }\n",
              "\n",
              "    .dataframe thead th {\n",
              "        text-align: right;\n",
              "    }\n",
              "</style>\n",
              "<table border=\"1\" class=\"dataframe\">\n",
              "  <thead>\n",
              "    <tr style=\"text-align: right;\">\n",
              "      <th></th>\n",
              "      <th>Serial Number</th>\n",
              "      <th>Country</th>\n",
              "      <th>Total Cases</th>\n",
              "      <th>Total Deaths</th>\n",
              "      <th>Total Recovered</th>\n",
              "      <th>Active Cases</th>\n",
              "      <th>Total Test</th>\n",
              "      <th>Population</th>\n",
              "    </tr>\n",
              "  </thead>\n",
              "  <tbody>\n",
              "    <tr>\n",
              "      <th>0</th>\n",
              "      <td>1</td>\n",
              "      <td>USA</td>\n",
              "      <td>104,196,861</td>\n",
              "      <td>1,132,935</td>\n",
              "      <td>101,322,779</td>\n",
              "      <td>1,741,147</td>\n",
              "      <td>1,159,832,679</td>\n",
              "      <td>334,805,269</td>\n",
              "    </tr>\n",
              "    <tr>\n",
              "      <th>1</th>\n",
              "      <td>2</td>\n",
              "      <td>India</td>\n",
              "      <td>44,682,784</td>\n",
              "      <td>530,740</td>\n",
              "      <td>44,150,289</td>\n",
              "      <td>1,755</td>\n",
              "      <td>915,265,788</td>\n",
              "      <td>1,406,631,776</td>\n",
              "    </tr>\n",
              "    <tr>\n",
              "      <th>2</th>\n",
              "      <td>3</td>\n",
              "      <td>France</td>\n",
              "      <td>39,524,311</td>\n",
              "      <td>164,233</td>\n",
              "      <td>39,264,546</td>\n",
              "      <td>95,532</td>\n",
              "      <td>271,490,188</td>\n",
              "      <td>65,584,518</td>\n",
              "    </tr>\n",
              "    <tr>\n",
              "      <th>3</th>\n",
              "      <td>4</td>\n",
              "      <td>Germany</td>\n",
              "      <td>37,779,833</td>\n",
              "      <td>165,711</td>\n",
              "      <td>37,398,100</td>\n",
              "      <td>216,022</td>\n",
              "      <td>122,332,384</td>\n",
              "      <td>83,883,596</td>\n",
              "    </tr>\n",
              "    <tr>\n",
              "      <th>4</th>\n",
              "      <td>5</td>\n",
              "      <td>Brazil</td>\n",
              "      <td>36,824,580</td>\n",
              "      <td>697,074</td>\n",
              "      <td>35,919,372</td>\n",
              "      <td>208,134</td>\n",
              "      <td>63,776,166</td>\n",
              "      <td>215,353,593</td>\n",
              "    </tr>\n",
              "    <tr>\n",
              "      <th>...</th>\n",
              "      <td>...</td>\n",
              "      <td>...</td>\n",
              "      <td>...</td>\n",
              "      <td>...</td>\n",
              "      <td>...</td>\n",
              "      <td>...</td>\n",
              "      <td>...</td>\n",
              "      <td>...</td>\n",
              "    </tr>\n",
              "    <tr>\n",
              "      <th>226</th>\n",
              "      <td>227</td>\n",
              "      <td>Diamond Princess</td>\n",
              "      <td>712</td>\n",
              "      <td>13</td>\n",
              "      <td>699</td>\n",
              "      <td>0</td>\n",
              "      <td>NaN</td>\n",
              "      <td>NaN</td>\n",
              "    </tr>\n",
              "    <tr>\n",
              "      <th>227</th>\n",
              "      <td>228</td>\n",
              "      <td>Vatican City</td>\n",
              "      <td>29</td>\n",
              "      <td>NaN</td>\n",
              "      <td>29</td>\n",
              "      <td>0</td>\n",
              "      <td>NaN</td>\n",
              "      <td>799</td>\n",
              "    </tr>\n",
              "    <tr>\n",
              "      <th>228</th>\n",
              "      <td>229</td>\n",
              "      <td>Western Sahara</td>\n",
              "      <td>10</td>\n",
              "      <td>1</td>\n",
              "      <td>9</td>\n",
              "      <td>0</td>\n",
              "      <td>NaN</td>\n",
              "      <td>626,161</td>\n",
              "    </tr>\n",
              "    <tr>\n",
              "      <th>229</th>\n",
              "      <td>230</td>\n",
              "      <td>MS Zaandam</td>\n",
              "      <td>9</td>\n",
              "      <td>2</td>\n",
              "      <td>7</td>\n",
              "      <td>0</td>\n",
              "      <td>NaN</td>\n",
              "      <td>NaN</td>\n",
              "    </tr>\n",
              "    <tr>\n",
              "      <th>230</th>\n",
              "      <td>231</td>\n",
              "      <td>Tokelau</td>\n",
              "      <td>5</td>\n",
              "      <td>NaN</td>\n",
              "      <td>NaN</td>\n",
              "      <td>5</td>\n",
              "      <td>NaN</td>\n",
              "      <td>1,378</td>\n",
              "    </tr>\n",
              "  </tbody>\n",
              "</table>\n",
              "<p>231 rows × 8 columns</p>\n",
              "</div>\n",
              "      <button class=\"colab-df-convert\" onclick=\"convertToInteractive('df-365103bf-8d45-4910-818f-1501769c05ba')\"\n",
              "              title=\"Convert this dataframe to an interactive table.\"\n",
              "              style=\"display:none;\">\n",
              "        \n",
              "  <svg xmlns=\"http://www.w3.org/2000/svg\" height=\"24px\"viewBox=\"0 0 24 24\"\n",
              "       width=\"24px\">\n",
              "    <path d=\"M0 0h24v24H0V0z\" fill=\"none\"/>\n",
              "    <path d=\"M18.56 5.44l.94 2.06.94-2.06 2.06-.94-2.06-.94-.94-2.06-.94 2.06-2.06.94zm-11 1L8.5 8.5l.94-2.06 2.06-.94-2.06-.94L8.5 2.5l-.94 2.06-2.06.94zm10 10l.94 2.06.94-2.06 2.06-.94-2.06-.94-.94-2.06-.94 2.06-2.06.94z\"/><path d=\"M17.41 7.96l-1.37-1.37c-.4-.4-.92-.59-1.43-.59-.52 0-1.04.2-1.43.59L10.3 9.45l-7.72 7.72c-.78.78-.78 2.05 0 2.83L4 21.41c.39.39.9.59 1.41.59.51 0 1.02-.2 1.41-.59l7.78-7.78 2.81-2.81c.8-.78.8-2.07 0-2.86zM5.41 20L4 18.59l7.72-7.72 1.47 1.35L5.41 20z\"/>\n",
              "  </svg>\n",
              "      </button>\n",
              "      \n",
              "  <style>\n",
              "    .colab-df-container {\n",
              "      display:flex;\n",
              "      flex-wrap:wrap;\n",
              "      gap: 12px;\n",
              "    }\n",
              "\n",
              "    .colab-df-convert {\n",
              "      background-color: #E8F0FE;\n",
              "      border: none;\n",
              "      border-radius: 50%;\n",
              "      cursor: pointer;\n",
              "      display: none;\n",
              "      fill: #1967D2;\n",
              "      height: 32px;\n",
              "      padding: 0 0 0 0;\n",
              "      width: 32px;\n",
              "    }\n",
              "\n",
              "    .colab-df-convert:hover {\n",
              "      background-color: #E2EBFA;\n",
              "      box-shadow: 0px 1px 2px rgba(60, 64, 67, 0.3), 0px 1px 3px 1px rgba(60, 64, 67, 0.15);\n",
              "      fill: #174EA6;\n",
              "    }\n",
              "\n",
              "    [theme=dark] .colab-df-convert {\n",
              "      background-color: #3B4455;\n",
              "      fill: #D2E3FC;\n",
              "    }\n",
              "\n",
              "    [theme=dark] .colab-df-convert:hover {\n",
              "      background-color: #434B5C;\n",
              "      box-shadow: 0px 1px 3px 1px rgba(0, 0, 0, 0.15);\n",
              "      filter: drop-shadow(0px 1px 2px rgba(0, 0, 0, 0.3));\n",
              "      fill: #FFFFFF;\n",
              "    }\n",
              "  </style>\n",
              "\n",
              "      <script>\n",
              "        const buttonEl =\n",
              "          document.querySelector('#df-365103bf-8d45-4910-818f-1501769c05ba button.colab-df-convert');\n",
              "        buttonEl.style.display =\n",
              "          google.colab.kernel.accessAllowed ? 'block' : 'none';\n",
              "\n",
              "        async function convertToInteractive(key) {\n",
              "          const element = document.querySelector('#df-365103bf-8d45-4910-818f-1501769c05ba');\n",
              "          const dataTable =\n",
              "            await google.colab.kernel.invokeFunction('convertToInteractive',\n",
              "                                                     [key], {});\n",
              "          if (!dataTable) return;\n",
              "\n",
              "          const docLinkHtml = 'Like what you see? Visit the ' +\n",
              "            '<a target=\"_blank\" href=https://colab.research.google.com/notebooks/data_table.ipynb>data table notebook</a>'\n",
              "            + ' to learn more about interactive tables.';\n",
              "          element.innerHTML = '';\n",
              "          dataTable['output_type'] = 'display_data';\n",
              "          await google.colab.output.renderOutput(dataTable, element);\n",
              "          const docLink = document.createElement('div');\n",
              "          docLink.innerHTML = docLinkHtml;\n",
              "          element.appendChild(docLink);\n",
              "        }\n",
              "      </script>\n",
              "    </div>\n",
              "  </div>\n",
              "  "
            ]
          },
          "metadata": {},
          "execution_count": 148
        }
      ],
      "source": [
        "#Covid Cases and Deaths WorldWide\n",
        "#Creating the DataFrame\n",
        "import pandas as pd\n",
        "df = pd.read_csv('https://raw.githubusercontent.com/gandipriyanka09/DataSets/main/covid_worldwide.csv')\n",
        "df"
      ]
    },
    {
      "cell_type": "code",
      "source": [
        "df.info()"
      ],
      "metadata": {
        "colab": {
          "base_uri": "https://localhost:8080/"
        },
        "id": "itTtN4ZSq6o-",
        "outputId": "5f80bcd4-a373-4f9d-8bba-129b4c43a74b"
      },
      "execution_count": null,
      "outputs": [
        {
          "output_type": "stream",
          "name": "stdout",
          "text": [
            "<class 'pandas.core.frame.DataFrame'>\n",
            "RangeIndex: 231 entries, 0 to 230\n",
            "Data columns (total 8 columns):\n",
            " #   Column           Non-Null Count  Dtype \n",
            "---  ------           --------------  ----- \n",
            " 0   Serial Number    231 non-null    int64 \n",
            " 1   Country          231 non-null    object\n",
            " 2   Total Cases      231 non-null    object\n",
            " 3   Total Deaths     225 non-null    object\n",
            " 4   Total Recovered  210 non-null    object\n",
            " 5   Active Cases     212 non-null    object\n",
            " 6   Total Test       213 non-null    object\n",
            " 7   Population       228 non-null    object\n",
            "dtypes: int64(1), object(7)\n",
            "memory usage: 14.6+ KB\n"
          ]
        }
      ]
    },
    {
      "cell_type": "code",
      "source": [
        "df.shape"
      ],
      "metadata": {
        "colab": {
          "base_uri": "https://localhost:8080/"
        },
        "id": "VAh87HvKrCUY",
        "outputId": "134da9db-cd96-4a05-90dd-026b77135df9"
      },
      "execution_count": null,
      "outputs": [
        {
          "output_type": "execute_result",
          "data": {
            "text/plain": [
              "(231, 8)"
            ]
          },
          "metadata": {},
          "execution_count": 150
        }
      ]
    },
    {
      "cell_type": "code",
      "source": [
        "df.size"
      ],
      "metadata": {
        "colab": {
          "base_uri": "https://localhost:8080/"
        },
        "id": "pYSjz9wBrEg0",
        "outputId": "43ed30ea-ce44-4b91-f10a-7b908d3863aa"
      },
      "execution_count": null,
      "outputs": [
        {
          "output_type": "execute_result",
          "data": {
            "text/plain": [
              "1848"
            ]
          },
          "metadata": {},
          "execution_count": 151
        }
      ]
    },
    {
      "cell_type": "code",
      "source": [
        "#1. Lets check if there are any null values\n",
        "df.isnull().sum()"
      ],
      "metadata": {
        "colab": {
          "base_uri": "https://localhost:8080/"
        },
        "id": "R3RMc5FkrGNR",
        "outputId": "98628da5-2190-4f09-e71f-ec94ac1e3cff"
      },
      "execution_count": null,
      "outputs": [
        {
          "output_type": "execute_result",
          "data": {
            "text/plain": [
              "Serial Number       0\n",
              "Country             0\n",
              "Total Cases         0\n",
              "Total Deaths        6\n",
              "Total Recovered    21\n",
              "Active Cases       19\n",
              "Total Test         18\n",
              "Population          3\n",
              "dtype: int64"
            ]
          },
          "metadata": {},
          "execution_count": 152
        }
      ]
    },
    {
      "cell_type": "code",
      "source": [
        "#2. Lets find which country has recorded 0 deaths\n",
        "df[df['Total Deaths'].isnull()]"
      ],
      "metadata": {
        "id": "ZQV1lCh-vn3K",
        "colab": {
          "base_uri": "https://localhost:8080/",
          "height": 237
        },
        "outputId": "7b8689f2-f239-4891-f56e-070571144239"
      },
      "execution_count": null,
      "outputs": [
        {
          "output_type": "execute_result",
          "data": {
            "text/plain": [
              "     Serial Number           Country Total Cases Total Deaths Total Recovered  \\\n",
              "221            222            Tuvalu       2,805          NaN             NaN   \n",
              "222            223      Saint Helena       2,166          NaN               2   \n",
              "223            224  Falkland Islands       1,930          NaN           1,930   \n",
              "225            226              Niue         747          NaN             746   \n",
              "227            228      Vatican City          29          NaN              29   \n",
              "230            231           Tokelau           5          NaN             NaN   \n",
              "\n",
              "    Active Cases Total Test Population  \n",
              "221        2,805        NaN     12,066  \n",
              "222        2,164        NaN      6,115  \n",
              "223            0      8,632      3,539  \n",
              "225            1        NaN      1,622  \n",
              "227            0        NaN        799  \n",
              "230            5        NaN      1,378  "
            ],
            "text/html": [
              "\n",
              "  <div id=\"df-35ab6c02-cf92-4679-bdb3-2103626dd8a7\">\n",
              "    <div class=\"colab-df-container\">\n",
              "      <div>\n",
              "<style scoped>\n",
              "    .dataframe tbody tr th:only-of-type {\n",
              "        vertical-align: middle;\n",
              "    }\n",
              "\n",
              "    .dataframe tbody tr th {\n",
              "        vertical-align: top;\n",
              "    }\n",
              "\n",
              "    .dataframe thead th {\n",
              "        text-align: right;\n",
              "    }\n",
              "</style>\n",
              "<table border=\"1\" class=\"dataframe\">\n",
              "  <thead>\n",
              "    <tr style=\"text-align: right;\">\n",
              "      <th></th>\n",
              "      <th>Serial Number</th>\n",
              "      <th>Country</th>\n",
              "      <th>Total Cases</th>\n",
              "      <th>Total Deaths</th>\n",
              "      <th>Total Recovered</th>\n",
              "      <th>Active Cases</th>\n",
              "      <th>Total Test</th>\n",
              "      <th>Population</th>\n",
              "    </tr>\n",
              "  </thead>\n",
              "  <tbody>\n",
              "    <tr>\n",
              "      <th>221</th>\n",
              "      <td>222</td>\n",
              "      <td>Tuvalu</td>\n",
              "      <td>2,805</td>\n",
              "      <td>NaN</td>\n",
              "      <td>NaN</td>\n",
              "      <td>2,805</td>\n",
              "      <td>NaN</td>\n",
              "      <td>12,066</td>\n",
              "    </tr>\n",
              "    <tr>\n",
              "      <th>222</th>\n",
              "      <td>223</td>\n",
              "      <td>Saint Helena</td>\n",
              "      <td>2,166</td>\n",
              "      <td>NaN</td>\n",
              "      <td>2</td>\n",
              "      <td>2,164</td>\n",
              "      <td>NaN</td>\n",
              "      <td>6,115</td>\n",
              "    </tr>\n",
              "    <tr>\n",
              "      <th>223</th>\n",
              "      <td>224</td>\n",
              "      <td>Falkland Islands</td>\n",
              "      <td>1,930</td>\n",
              "      <td>NaN</td>\n",
              "      <td>1,930</td>\n",
              "      <td>0</td>\n",
              "      <td>8,632</td>\n",
              "      <td>3,539</td>\n",
              "    </tr>\n",
              "    <tr>\n",
              "      <th>225</th>\n",
              "      <td>226</td>\n",
              "      <td>Niue</td>\n",
              "      <td>747</td>\n",
              "      <td>NaN</td>\n",
              "      <td>746</td>\n",
              "      <td>1</td>\n",
              "      <td>NaN</td>\n",
              "      <td>1,622</td>\n",
              "    </tr>\n",
              "    <tr>\n",
              "      <th>227</th>\n",
              "      <td>228</td>\n",
              "      <td>Vatican City</td>\n",
              "      <td>29</td>\n",
              "      <td>NaN</td>\n",
              "      <td>29</td>\n",
              "      <td>0</td>\n",
              "      <td>NaN</td>\n",
              "      <td>799</td>\n",
              "    </tr>\n",
              "    <tr>\n",
              "      <th>230</th>\n",
              "      <td>231</td>\n",
              "      <td>Tokelau</td>\n",
              "      <td>5</td>\n",
              "      <td>NaN</td>\n",
              "      <td>NaN</td>\n",
              "      <td>5</td>\n",
              "      <td>NaN</td>\n",
              "      <td>1,378</td>\n",
              "    </tr>\n",
              "  </tbody>\n",
              "</table>\n",
              "</div>\n",
              "      <button class=\"colab-df-convert\" onclick=\"convertToInteractive('df-35ab6c02-cf92-4679-bdb3-2103626dd8a7')\"\n",
              "              title=\"Convert this dataframe to an interactive table.\"\n",
              "              style=\"display:none;\">\n",
              "        \n",
              "  <svg xmlns=\"http://www.w3.org/2000/svg\" height=\"24px\"viewBox=\"0 0 24 24\"\n",
              "       width=\"24px\">\n",
              "    <path d=\"M0 0h24v24H0V0z\" fill=\"none\"/>\n",
              "    <path d=\"M18.56 5.44l.94 2.06.94-2.06 2.06-.94-2.06-.94-.94-2.06-.94 2.06-2.06.94zm-11 1L8.5 8.5l.94-2.06 2.06-.94-2.06-.94L8.5 2.5l-.94 2.06-2.06.94zm10 10l.94 2.06.94-2.06 2.06-.94-2.06-.94-.94-2.06-.94 2.06-2.06.94z\"/><path d=\"M17.41 7.96l-1.37-1.37c-.4-.4-.92-.59-1.43-.59-.52 0-1.04.2-1.43.59L10.3 9.45l-7.72 7.72c-.78.78-.78 2.05 0 2.83L4 21.41c.39.39.9.59 1.41.59.51 0 1.02-.2 1.41-.59l7.78-7.78 2.81-2.81c.8-.78.8-2.07 0-2.86zM5.41 20L4 18.59l7.72-7.72 1.47 1.35L5.41 20z\"/>\n",
              "  </svg>\n",
              "      </button>\n",
              "      \n",
              "  <style>\n",
              "    .colab-df-container {\n",
              "      display:flex;\n",
              "      flex-wrap:wrap;\n",
              "      gap: 12px;\n",
              "    }\n",
              "\n",
              "    .colab-df-convert {\n",
              "      background-color: #E8F0FE;\n",
              "      border: none;\n",
              "      border-radius: 50%;\n",
              "      cursor: pointer;\n",
              "      display: none;\n",
              "      fill: #1967D2;\n",
              "      height: 32px;\n",
              "      padding: 0 0 0 0;\n",
              "      width: 32px;\n",
              "    }\n",
              "\n",
              "    .colab-df-convert:hover {\n",
              "      background-color: #E2EBFA;\n",
              "      box-shadow: 0px 1px 2px rgba(60, 64, 67, 0.3), 0px 1px 3px 1px rgba(60, 64, 67, 0.15);\n",
              "      fill: #174EA6;\n",
              "    }\n",
              "\n",
              "    [theme=dark] .colab-df-convert {\n",
              "      background-color: #3B4455;\n",
              "      fill: #D2E3FC;\n",
              "    }\n",
              "\n",
              "    [theme=dark] .colab-df-convert:hover {\n",
              "      background-color: #434B5C;\n",
              "      box-shadow: 0px 1px 3px 1px rgba(0, 0, 0, 0.15);\n",
              "      filter: drop-shadow(0px 1px 2px rgba(0, 0, 0, 0.3));\n",
              "      fill: #FFFFFF;\n",
              "    }\n",
              "  </style>\n",
              "\n",
              "      <script>\n",
              "        const buttonEl =\n",
              "          document.querySelector('#df-35ab6c02-cf92-4679-bdb3-2103626dd8a7 button.colab-df-convert');\n",
              "        buttonEl.style.display =\n",
              "          google.colab.kernel.accessAllowed ? 'block' : 'none';\n",
              "\n",
              "        async function convertToInteractive(key) {\n",
              "          const element = document.querySelector('#df-35ab6c02-cf92-4679-bdb3-2103626dd8a7');\n",
              "          const dataTable =\n",
              "            await google.colab.kernel.invokeFunction('convertToInteractive',\n",
              "                                                     [key], {});\n",
              "          if (!dataTable) return;\n",
              "\n",
              "          const docLinkHtml = 'Like what you see? Visit the ' +\n",
              "            '<a target=\"_blank\" href=https://colab.research.google.com/notebooks/data_table.ipynb>data table notebook</a>'\n",
              "            + ' to learn more about interactive tables.';\n",
              "          element.innerHTML = '';\n",
              "          dataTable['output_type'] = 'display_data';\n",
              "          await google.colab.output.renderOutput(dataTable, element);\n",
              "          const docLink = document.createElement('div');\n",
              "          docLink.innerHTML = docLinkHtml;\n",
              "          element.appendChild(docLink);\n",
              "        }\n",
              "      </script>\n",
              "    </div>\n",
              "  </div>\n",
              "  "
            ]
          },
          "metadata": {},
          "execution_count": 153
        }
      ]
    },
    {
      "cell_type": "code",
      "source": [
        "#3. Lets check if there is any country where not even a single person has recovered\n",
        "df[df['Total Recovered'].isnull()]"
      ],
      "metadata": {
        "id": "D3KCEaiOtshV",
        "colab": {
          "base_uri": "https://localhost:8080/",
          "height": 707
        },
        "outputId": "791d7659-a296-4253-95a8-1bdccb840b5c"
      },
      "execution_count": null,
      "outputs": [
        {
          "output_type": "execute_result",
          "data": {
            "text/plain": [
              "     Serial Number                 Country Total Cases Total Deaths  \\\n",
              "10              11                  Turkey  17,042,722      101,492   \n",
              "65              66                 Tunisia   1,150,356       29,308   \n",
              "77              78                Paraguay     806,256       19,820   \n",
              "94              95                Honduras     470,757       11,104   \n",
              "111            112              Martinique     229,687        1,097   \n",
              "112            113                    Laos     217,973          758   \n",
              "113            114                 Iceland     208,688          229   \n",
              "117            118              Guadeloupe     201,394        1,007   \n",
              "136            137                Suriname      82,020        1,398   \n",
              "138            139        French Polynesia      77,957          649   \n",
              "156            157                Tanzania      42,664          846   \n",
              "157            158                 Mayotte      42,002          188   \n",
              "161            162             Isle of Man      38,008          116   \n",
              "164            165          Faeroe Islands      34,658           28   \n",
              "172            173         Solomon Islands      24,575          153   \n",
              "175            176              Micronesia      22,676           58   \n",
              "206            207            Sierra Leone       7,760          126   \n",
              "208            209  British Virgin Islands       7,305           64   \n",
              "214            215               St. Barth       5,420            6   \n",
              "221            222                  Tuvalu       2,805          NaN   \n",
              "230            231                 Tokelau           5          NaN   \n",
              "\n",
              "    Total Recovered Active Cases   Total Test  Population  \n",
              "10              NaN          NaN  162,743,369  85,561,976  \n",
              "65              NaN          NaN    4,997,373  12,046,656  \n",
              "77              NaN          NaN    2,657,506   7,305,843  \n",
              "94              NaN          NaN    1,619,676  10,221,247  \n",
              "111             NaN          NaN      828,928     374,087  \n",
              "112             NaN          NaN    1,233,207   7,481,023  \n",
              "113             NaN          NaN    1,996,384     345,393  \n",
              "117             NaN          NaN      938,039     399,794  \n",
              "136             NaN          NaN      239,603     596,831  \n",
              "138             NaN          NaN          NaN     284,164  \n",
              "156             NaN          NaN          NaN  63,298,550  \n",
              "157             NaN          NaN      176,919     286,259  \n",
              "161             NaN          NaN      150,753      85,732  \n",
              "164             NaN          NaN      778,000      49,233  \n",
              "172             NaN          NaN          NaN     721,159  \n",
              "175             NaN          NaN       54,967     117,489  \n",
              "206             NaN          NaN      259,958   8,306,436  \n",
              "208             NaN          NaN      107,339      30,596  \n",
              "214             NaN          NaN       78,646       9,945  \n",
              "221             NaN        2,805          NaN      12,066  \n",
              "230             NaN            5          NaN       1,378  "
            ],
            "text/html": [
              "\n",
              "  <div id=\"df-01b93e0c-dd15-41b8-8b4c-1c74b7551d2e\">\n",
              "    <div class=\"colab-df-container\">\n",
              "      <div>\n",
              "<style scoped>\n",
              "    .dataframe tbody tr th:only-of-type {\n",
              "        vertical-align: middle;\n",
              "    }\n",
              "\n",
              "    .dataframe tbody tr th {\n",
              "        vertical-align: top;\n",
              "    }\n",
              "\n",
              "    .dataframe thead th {\n",
              "        text-align: right;\n",
              "    }\n",
              "</style>\n",
              "<table border=\"1\" class=\"dataframe\">\n",
              "  <thead>\n",
              "    <tr style=\"text-align: right;\">\n",
              "      <th></th>\n",
              "      <th>Serial Number</th>\n",
              "      <th>Country</th>\n",
              "      <th>Total Cases</th>\n",
              "      <th>Total Deaths</th>\n",
              "      <th>Total Recovered</th>\n",
              "      <th>Active Cases</th>\n",
              "      <th>Total Test</th>\n",
              "      <th>Population</th>\n",
              "    </tr>\n",
              "  </thead>\n",
              "  <tbody>\n",
              "    <tr>\n",
              "      <th>10</th>\n",
              "      <td>11</td>\n",
              "      <td>Turkey</td>\n",
              "      <td>17,042,722</td>\n",
              "      <td>101,492</td>\n",
              "      <td>NaN</td>\n",
              "      <td>NaN</td>\n",
              "      <td>162,743,369</td>\n",
              "      <td>85,561,976</td>\n",
              "    </tr>\n",
              "    <tr>\n",
              "      <th>65</th>\n",
              "      <td>66</td>\n",
              "      <td>Tunisia</td>\n",
              "      <td>1,150,356</td>\n",
              "      <td>29,308</td>\n",
              "      <td>NaN</td>\n",
              "      <td>NaN</td>\n",
              "      <td>4,997,373</td>\n",
              "      <td>12,046,656</td>\n",
              "    </tr>\n",
              "    <tr>\n",
              "      <th>77</th>\n",
              "      <td>78</td>\n",
              "      <td>Paraguay</td>\n",
              "      <td>806,256</td>\n",
              "      <td>19,820</td>\n",
              "      <td>NaN</td>\n",
              "      <td>NaN</td>\n",
              "      <td>2,657,506</td>\n",
              "      <td>7,305,843</td>\n",
              "    </tr>\n",
              "    <tr>\n",
              "      <th>94</th>\n",
              "      <td>95</td>\n",
              "      <td>Honduras</td>\n",
              "      <td>470,757</td>\n",
              "      <td>11,104</td>\n",
              "      <td>NaN</td>\n",
              "      <td>NaN</td>\n",
              "      <td>1,619,676</td>\n",
              "      <td>10,221,247</td>\n",
              "    </tr>\n",
              "    <tr>\n",
              "      <th>111</th>\n",
              "      <td>112</td>\n",
              "      <td>Martinique</td>\n",
              "      <td>229,687</td>\n",
              "      <td>1,097</td>\n",
              "      <td>NaN</td>\n",
              "      <td>NaN</td>\n",
              "      <td>828,928</td>\n",
              "      <td>374,087</td>\n",
              "    </tr>\n",
              "    <tr>\n",
              "      <th>112</th>\n",
              "      <td>113</td>\n",
              "      <td>Laos</td>\n",
              "      <td>217,973</td>\n",
              "      <td>758</td>\n",
              "      <td>NaN</td>\n",
              "      <td>NaN</td>\n",
              "      <td>1,233,207</td>\n",
              "      <td>7,481,023</td>\n",
              "    </tr>\n",
              "    <tr>\n",
              "      <th>113</th>\n",
              "      <td>114</td>\n",
              "      <td>Iceland</td>\n",
              "      <td>208,688</td>\n",
              "      <td>229</td>\n",
              "      <td>NaN</td>\n",
              "      <td>NaN</td>\n",
              "      <td>1,996,384</td>\n",
              "      <td>345,393</td>\n",
              "    </tr>\n",
              "    <tr>\n",
              "      <th>117</th>\n",
              "      <td>118</td>\n",
              "      <td>Guadeloupe</td>\n",
              "      <td>201,394</td>\n",
              "      <td>1,007</td>\n",
              "      <td>NaN</td>\n",
              "      <td>NaN</td>\n",
              "      <td>938,039</td>\n",
              "      <td>399,794</td>\n",
              "    </tr>\n",
              "    <tr>\n",
              "      <th>136</th>\n",
              "      <td>137</td>\n",
              "      <td>Suriname</td>\n",
              "      <td>82,020</td>\n",
              "      <td>1,398</td>\n",
              "      <td>NaN</td>\n",
              "      <td>NaN</td>\n",
              "      <td>239,603</td>\n",
              "      <td>596,831</td>\n",
              "    </tr>\n",
              "    <tr>\n",
              "      <th>138</th>\n",
              "      <td>139</td>\n",
              "      <td>French Polynesia</td>\n",
              "      <td>77,957</td>\n",
              "      <td>649</td>\n",
              "      <td>NaN</td>\n",
              "      <td>NaN</td>\n",
              "      <td>NaN</td>\n",
              "      <td>284,164</td>\n",
              "    </tr>\n",
              "    <tr>\n",
              "      <th>156</th>\n",
              "      <td>157</td>\n",
              "      <td>Tanzania</td>\n",
              "      <td>42,664</td>\n",
              "      <td>846</td>\n",
              "      <td>NaN</td>\n",
              "      <td>NaN</td>\n",
              "      <td>NaN</td>\n",
              "      <td>63,298,550</td>\n",
              "    </tr>\n",
              "    <tr>\n",
              "      <th>157</th>\n",
              "      <td>158</td>\n",
              "      <td>Mayotte</td>\n",
              "      <td>42,002</td>\n",
              "      <td>188</td>\n",
              "      <td>NaN</td>\n",
              "      <td>NaN</td>\n",
              "      <td>176,919</td>\n",
              "      <td>286,259</td>\n",
              "    </tr>\n",
              "    <tr>\n",
              "      <th>161</th>\n",
              "      <td>162</td>\n",
              "      <td>Isle of Man</td>\n",
              "      <td>38,008</td>\n",
              "      <td>116</td>\n",
              "      <td>NaN</td>\n",
              "      <td>NaN</td>\n",
              "      <td>150,753</td>\n",
              "      <td>85,732</td>\n",
              "    </tr>\n",
              "    <tr>\n",
              "      <th>164</th>\n",
              "      <td>165</td>\n",
              "      <td>Faeroe Islands</td>\n",
              "      <td>34,658</td>\n",
              "      <td>28</td>\n",
              "      <td>NaN</td>\n",
              "      <td>NaN</td>\n",
              "      <td>778,000</td>\n",
              "      <td>49,233</td>\n",
              "    </tr>\n",
              "    <tr>\n",
              "      <th>172</th>\n",
              "      <td>173</td>\n",
              "      <td>Solomon Islands</td>\n",
              "      <td>24,575</td>\n",
              "      <td>153</td>\n",
              "      <td>NaN</td>\n",
              "      <td>NaN</td>\n",
              "      <td>NaN</td>\n",
              "      <td>721,159</td>\n",
              "    </tr>\n",
              "    <tr>\n",
              "      <th>175</th>\n",
              "      <td>176</td>\n",
              "      <td>Micronesia</td>\n",
              "      <td>22,676</td>\n",
              "      <td>58</td>\n",
              "      <td>NaN</td>\n",
              "      <td>NaN</td>\n",
              "      <td>54,967</td>\n",
              "      <td>117,489</td>\n",
              "    </tr>\n",
              "    <tr>\n",
              "      <th>206</th>\n",
              "      <td>207</td>\n",
              "      <td>Sierra Leone</td>\n",
              "      <td>7,760</td>\n",
              "      <td>126</td>\n",
              "      <td>NaN</td>\n",
              "      <td>NaN</td>\n",
              "      <td>259,958</td>\n",
              "      <td>8,306,436</td>\n",
              "    </tr>\n",
              "    <tr>\n",
              "      <th>208</th>\n",
              "      <td>209</td>\n",
              "      <td>British Virgin Islands</td>\n",
              "      <td>7,305</td>\n",
              "      <td>64</td>\n",
              "      <td>NaN</td>\n",
              "      <td>NaN</td>\n",
              "      <td>107,339</td>\n",
              "      <td>30,596</td>\n",
              "    </tr>\n",
              "    <tr>\n",
              "      <th>214</th>\n",
              "      <td>215</td>\n",
              "      <td>St. Barth</td>\n",
              "      <td>5,420</td>\n",
              "      <td>6</td>\n",
              "      <td>NaN</td>\n",
              "      <td>NaN</td>\n",
              "      <td>78,646</td>\n",
              "      <td>9,945</td>\n",
              "    </tr>\n",
              "    <tr>\n",
              "      <th>221</th>\n",
              "      <td>222</td>\n",
              "      <td>Tuvalu</td>\n",
              "      <td>2,805</td>\n",
              "      <td>NaN</td>\n",
              "      <td>NaN</td>\n",
              "      <td>2,805</td>\n",
              "      <td>NaN</td>\n",
              "      <td>12,066</td>\n",
              "    </tr>\n",
              "    <tr>\n",
              "      <th>230</th>\n",
              "      <td>231</td>\n",
              "      <td>Tokelau</td>\n",
              "      <td>5</td>\n",
              "      <td>NaN</td>\n",
              "      <td>NaN</td>\n",
              "      <td>5</td>\n",
              "      <td>NaN</td>\n",
              "      <td>1,378</td>\n",
              "    </tr>\n",
              "  </tbody>\n",
              "</table>\n",
              "</div>\n",
              "      <button class=\"colab-df-convert\" onclick=\"convertToInteractive('df-01b93e0c-dd15-41b8-8b4c-1c74b7551d2e')\"\n",
              "              title=\"Convert this dataframe to an interactive table.\"\n",
              "              style=\"display:none;\">\n",
              "        \n",
              "  <svg xmlns=\"http://www.w3.org/2000/svg\" height=\"24px\"viewBox=\"0 0 24 24\"\n",
              "       width=\"24px\">\n",
              "    <path d=\"M0 0h24v24H0V0z\" fill=\"none\"/>\n",
              "    <path d=\"M18.56 5.44l.94 2.06.94-2.06 2.06-.94-2.06-.94-.94-2.06-.94 2.06-2.06.94zm-11 1L8.5 8.5l.94-2.06 2.06-.94-2.06-.94L8.5 2.5l-.94 2.06-2.06.94zm10 10l.94 2.06.94-2.06 2.06-.94-2.06-.94-.94-2.06-.94 2.06-2.06.94z\"/><path d=\"M17.41 7.96l-1.37-1.37c-.4-.4-.92-.59-1.43-.59-.52 0-1.04.2-1.43.59L10.3 9.45l-7.72 7.72c-.78.78-.78 2.05 0 2.83L4 21.41c.39.39.9.59 1.41.59.51 0 1.02-.2 1.41-.59l7.78-7.78 2.81-2.81c.8-.78.8-2.07 0-2.86zM5.41 20L4 18.59l7.72-7.72 1.47 1.35L5.41 20z\"/>\n",
              "  </svg>\n",
              "      </button>\n",
              "      \n",
              "  <style>\n",
              "    .colab-df-container {\n",
              "      display:flex;\n",
              "      flex-wrap:wrap;\n",
              "      gap: 12px;\n",
              "    }\n",
              "\n",
              "    .colab-df-convert {\n",
              "      background-color: #E8F0FE;\n",
              "      border: none;\n",
              "      border-radius: 50%;\n",
              "      cursor: pointer;\n",
              "      display: none;\n",
              "      fill: #1967D2;\n",
              "      height: 32px;\n",
              "      padding: 0 0 0 0;\n",
              "      width: 32px;\n",
              "    }\n",
              "\n",
              "    .colab-df-convert:hover {\n",
              "      background-color: #E2EBFA;\n",
              "      box-shadow: 0px 1px 2px rgba(60, 64, 67, 0.3), 0px 1px 3px 1px rgba(60, 64, 67, 0.15);\n",
              "      fill: #174EA6;\n",
              "    }\n",
              "\n",
              "    [theme=dark] .colab-df-convert {\n",
              "      background-color: #3B4455;\n",
              "      fill: #D2E3FC;\n",
              "    }\n",
              "\n",
              "    [theme=dark] .colab-df-convert:hover {\n",
              "      background-color: #434B5C;\n",
              "      box-shadow: 0px 1px 3px 1px rgba(0, 0, 0, 0.15);\n",
              "      filter: drop-shadow(0px 1px 2px rgba(0, 0, 0, 0.3));\n",
              "      fill: #FFFFFF;\n",
              "    }\n",
              "  </style>\n",
              "\n",
              "      <script>\n",
              "        const buttonEl =\n",
              "          document.querySelector('#df-01b93e0c-dd15-41b8-8b4c-1c74b7551d2e button.colab-df-convert');\n",
              "        buttonEl.style.display =\n",
              "          google.colab.kernel.accessAllowed ? 'block' : 'none';\n",
              "\n",
              "        async function convertToInteractive(key) {\n",
              "          const element = document.querySelector('#df-01b93e0c-dd15-41b8-8b4c-1c74b7551d2e');\n",
              "          const dataTable =\n",
              "            await google.colab.kernel.invokeFunction('convertToInteractive',\n",
              "                                                     [key], {});\n",
              "          if (!dataTable) return;\n",
              "\n",
              "          const docLinkHtml = 'Like what you see? Visit the ' +\n",
              "            '<a target=\"_blank\" href=https://colab.research.google.com/notebooks/data_table.ipynb>data table notebook</a>'\n",
              "            + ' to learn more about interactive tables.';\n",
              "          element.innerHTML = '';\n",
              "          dataTable['output_type'] = 'display_data';\n",
              "          await google.colab.output.renderOutput(dataTable, element);\n",
              "          const docLink = document.createElement('div');\n",
              "          docLink.innerHTML = docLinkHtml;\n",
              "          element.appendChild(docLink);\n",
              "        }\n",
              "      </script>\n",
              "    </div>\n",
              "  </div>\n",
              "  "
            ]
          },
          "metadata": {},
          "execution_count": 154
        }
      ]
    },
    {
      "cell_type": "code",
      "source": [
        "#4. To check which country has the highest cases recorded\n",
        "import numpy as np\n",
        "df1 = df.iloc[:,1:3]\n",
        "np.max(df1)"
      ],
      "metadata": {
        "id": "y4rtZmhRyGl8",
        "colab": {
          "base_uri": "https://localhost:8080/"
        },
        "outputId": "03db4e4a-81e3-4533-a97f-0d56948464a5"
      },
      "execution_count": null,
      "outputs": [
        {
          "output_type": "execute_result",
          "data": {
            "text/plain": [
              "Country        Zimbabwe\n",
              "Total Cases     994,037\n",
              "dtype: object"
            ]
          },
          "metadata": {},
          "execution_count": 155
        }
      ]
    },
    {
      "cell_type": "code",
      "source": [
        "#5. Lets check which country has the lowest active cases\n",
        "ActiveCases = df.drop(['Serial Number','Total Deaths','Total Cases','Total Recovered','Population','Total Test'], axis = 1) #axis =1 - is for colum and axis = 0  is for row\n",
        "np.min(ActiveCases)"
      ],
      "metadata": {
        "id": "e4dIoysoyVuW",
        "colab": {
          "base_uri": "https://localhost:8080/"
        },
        "outputId": "d1518a59-9dba-42b2-9e65-b0b9772d0cb8"
      },
      "execution_count": null,
      "outputs": [
        {
          "output_type": "stream",
          "name": "stderr",
          "text": [
            "/usr/local/lib/python3.8/dist-packages/numpy/core/fromnumeric.py:84: FutureWarning: Dropping of nuisance columns in DataFrame reductions (with 'numeric_only=None') is deprecated; in a future version this will raise TypeError.  Select only valid columns before calling the reduction.\n",
            "  return reduction(axis=axis, out=out, **passkwargs)\n"
          ]
        },
        {
          "output_type": "execute_result",
          "data": {
            "text/plain": [
              "Country    Afghanistan\n",
              "dtype: object"
            ]
          },
          "metadata": {},
          "execution_count": 156
        }
      ]
    },
    {
      "cell_type": "code",
      "source": [
        "#6. Lets check the country with highest active cases\n",
        "np.max(ActiveCases)"
      ],
      "metadata": {
        "id": "PSR-D_hjsVik",
        "colab": {
          "base_uri": "https://localhost:8080/"
        },
        "outputId": "86ab4025-6a66-4127-dbbd-cd9a79fd9937"
      },
      "execution_count": null,
      "outputs": [
        {
          "output_type": "execute_result",
          "data": {
            "text/plain": [
              "Country    Zimbabwe\n",
              "dtype: object"
            ]
          },
          "metadata": {},
          "execution_count": 157
        }
      ]
    },
    {
      "cell_type": "code",
      "source": [
        "#7. Visualization\n",
        "import matplotlib.pyplot as plt\n",
        "plt.scatter(df['Country'], df['Total Cases'])"
      ],
      "metadata": {
        "id": "YvyjL_EOsw8n",
        "colab": {
          "base_uri": "https://localhost:8080/",
          "height": 283
        },
        "outputId": "1263b610-f812-476a-8067-8d3092b9ddf3"
      },
      "execution_count": null,
      "outputs": [
        {
          "output_type": "execute_result",
          "data": {
            "text/plain": [
              "<matplotlib.collections.PathCollection at 0x7f9fc6709610>"
            ]
          },
          "metadata": {},
          "execution_count": 158
        },
        {
          "output_type": "display_data",
          "data": {
            "text/plain": [
              "<Figure size 432x288 with 1 Axes>"
            ],
            "image/png": "[encoded data removed]"
          },
          "metadata": {
            "needs_background": "light"
          }
        }
      ]
    },
    {
      "cell_type": "code",
      "source": [
        "#8. Visualization of first 50 countries\n",
        "a = df.head(50)\n",
        "import matplotlib.pyplot as plt\n",
        "plt.plot(a['Country'], a['Total Cases'])"
      ],
      "metadata": {
        "colab": {
          "base_uri": "https://localhost:8080/",
          "height": 283
        },
        "id": "jQOcXJXhtBjk",
        "outputId": "54dce794-cd53-4403-f925-57aa42161a6b"
      },
      "execution_count": null,
      "outputs": [
        {
          "output_type": "execute_result",
          "data": {
            "text/plain": [
              "[<matplotlib.lines.Line2D at 0x7f9fc72289a0>]"
            ]
          },
          "metadata": {},
          "execution_count": 159
        },
        {
          "output_type": "display_data",
          "data": {
            "text/plain": [
              "<Figure size 432x288 with 1 Axes>"
            ],
            "image/png": "[encoded data removed]"
          },
          "metadata": {
            "needs_background": "light"
          }
        }
      ]
    },
    {
      "cell_type": "code",
      "source": [
        "#9. To know the unique values\n",
        "df.nunique"
      ],
      "metadata": {
        "id": "wUlXUHgP4WjT",
        "colab": {
          "base_uri": "https://localhost:8080/"
        },
        "outputId": "745d3d5d-9a5a-46b2-9409-216540feed9c"
      },
      "execution_count": null,
      "outputs": [
        {
          "output_type": "execute_result",
          "data": {
            "text/plain": [
              "<bound method DataFrame.nunique of      Serial Number           Country  Total Cases Total Deaths  \\\n",
              "0                1               USA  104,196,861    1,132,935   \n",
              "1                2             India   44,682,784      530,740   \n",
              "2                3            France   39,524,311      164,233   \n",
              "3                4           Germany   37,779,833      165,711   \n",
              "4                5            Brazil   36,824,580      697,074   \n",
              "..             ...               ...          ...          ...   \n",
              "226            227  Diamond Princess          712           13   \n",
              "227            228      Vatican City           29          NaN   \n",
              "228            229    Western Sahara           10            1   \n",
              "229            230        MS Zaandam            9            2   \n",
              "230            231           Tokelau            5          NaN   \n",
              "\n",
              "    Total Recovered Active Cases     Total Test     Population  \n",
              "0       101,322,779    1,741,147  1,159,832,679    334,805,269  \n",
              "1        44,150,289        1,755    915,265,788  1,406,631,776  \n",
              "2        39,264,546       95,532    271,490,188     65,584,518  \n",
              "3        37,398,100      216,022    122,332,384     83,883,596  \n",
              "4        35,919,372      208,134     63,776,166    215,353,593  \n",
              "..              ...          ...            ...            ...  \n",
              "226             699            0            NaN            NaN  \n",
              "227              29            0            NaN            799  \n",
              "228               9            0            NaN        626,161  \n",
              "229               7            0            NaN            NaN  \n",
              "230             NaN            5            NaN          1,378  \n",
              "\n",
              "[231 rows x 8 columns]>"
            ]
          },
          "metadata": {},
          "execution_count": 160
        }
      ]
    },
    {
      "cell_type": "code",
      "source": [
        "#10. Visualization through seaborn.\n",
        "import seaborn as sns\n",
        "sns.countplot(x='Total Cases', data = df)"
      ],
      "metadata": {
        "colab": {
          "base_uri": "https://localhost:8080/",
          "height": 297
        },
        "id": "iaF9zC_KCZ0f",
        "outputId": "0d37327e-8d88-4170-e1bd-99f798e9a55c"
      },
      "execution_count": null,
      "outputs": [
        {
          "output_type": "execute_result",
          "data": {
            "text/plain": [
              "<AxesSubplot:xlabel='Total Cases', ylabel='count'>"
            ]
          },
          "metadata": {},
          "execution_count": 161
        },
        {
          "output_type": "display_data",
          "data": {
            "text/plain": [
              "<Figure size 432x288 with 1 Axes>"
            ],
            "image/png": "[encoded data removed]"
          },
          "metadata": {
            "needs_background": "light"
          }
        }
      ]
    },
    {
      "cell_type": "code",
      "source": [
        "#11. To find the highest populated country\n",
        "Population = df.drop(['Serial Number','Total Deaths','Total Cases','Total Recovered','Active Cases','Total Test'], axis = 1) #axis =1 - is for colum and axis = 0  is for row\n",
        "np.max(Population)\n"
      ],
      "metadata": {
        "colab": {
          "base_uri": "https://localhost:8080/"
        },
        "id": "SyBAyY98JXL2",
        "outputId": "660a8fb4-f76f-414f-a2ee-e55cb25fa49b"
      },
      "execution_count": null,
      "outputs": [
        {
          "output_type": "stream",
          "name": "stderr",
          "text": [
            "/usr/local/lib/python3.8/dist-packages/numpy/core/fromnumeric.py:84: FutureWarning: Dropping of nuisance columns in DataFrame reductions (with 'numeric_only=None') is deprecated; in a future version this will raise TypeError.  Select only valid columns before calling the reduction.\n",
            "  return reduction(axis=axis, out=out, **passkwargs)\n"
          ]
        },
        {
          "output_type": "execute_result",
          "data": {
            "text/plain": [
              "Country    Zimbabwe\n",
              "dtype: object"
            ]
          },
          "metadata": {},
          "execution_count": 162
        }
      ]
    },
    {
      "cell_type": "code",
      "source": [
        "#12. To find the lowest populated country\n",
        "np.min(Population)"
      ],
      "metadata": {
        "id": "Vz_CKJOdK0j4",
        "colab": {
          "base_uri": "https://localhost:8080/"
        },
        "outputId": "45c1f81e-83a3-4952-98dc-c187df17b49d"
      },
      "execution_count": null,
      "outputs": [
        {
          "output_type": "execute_result",
          "data": {
            "text/plain": [
              "Country    Afghanistan\n",
              "dtype: object"
            ]
          },
          "metadata": {},
          "execution_count": 163
        }
      ]
    },
    {
      "cell_type": "code",
      "source": [
        "#13To create the output of complete statistics of the data in DataFrame\n",
        "df.describe()"
      ],
      "metadata": {
        "colab": {
          "base_uri": "https://localhost:8080/",
          "height": 300
        },
        "id": "a6Ofr30BO6HG",
        "outputId": "eaae306e-1202-4673-ac9b-1425c46eb18c"
      },
      "execution_count": null,
      "outputs": [
        {
          "output_type": "execute_result",
          "data": {
            "text/plain": [
              "       Serial Number\n",
              "count     231.000000\n",
              "mean      116.000000\n",
              "std        66.828138\n",
              "min         1.000000\n",
              "25%        58.500000\n",
              "50%       116.000000\n",
              "75%       173.500000\n",
              "max       231.000000"
            ],
            "text/html": [
              "\n",
              "  <div id=\"df-14beb03f-e0a5-4f14-89a9-085c053d5db5\">\n",
              "    <div class=\"colab-df-container\">\n",
              "      <div>\n",
              "<style scoped>\n",
              "    .dataframe tbody tr th:only-of-type {\n",
              "        vertical-align: middle;\n",
              "    }\n",
              "\n",
              "    .dataframe tbody tr th {\n",
              "        vertical-align: top;\n",
              "    }\n",
              "\n",
              "    .dataframe thead th {\n",
              "        text-align: right;\n",
              "    }\n",
              "</style>\n",
              "<table border=\"1\" class=\"dataframe\">\n",
              "  <thead>\n",
              "    <tr style=\"text-align: right;\">\n",
              "      <th></th>\n",
              "      <th>Serial Number</th>\n",
              "    </tr>\n",
              "  </thead>\n",
              "  <tbody>\n",
              "    <tr>\n",
              "      <th>count</th>\n",
              "      <td>231.000000</td>\n",
              "    </tr>\n",
              "    <tr>\n",
              "      <th>mean</th>\n",
              "      <td>116.000000</td>\n",
              "    </tr>\n",
              "    <tr>\n",
              "      <th>std</th>\n",
              "      <td>66.828138</td>\n",
              "    </tr>\n",
              "    <tr>\n",
              "      <th>min</th>\n",
              "      <td>1.000000</td>\n",
              "    </tr>\n",
              "    <tr>\n",
              "      <th>25%</th>\n",
              "      <td>58.500000</td>\n",
              "    </tr>\n",
              "    <tr>\n",
              "      <th>50%</th>\n",
              "      <td>116.000000</td>\n",
              "    </tr>\n",
              "    <tr>\n",
              "      <th>75%</th>\n",
              "      <td>173.500000</td>\n",
              "    </tr>\n",
              "    <tr>\n",
              "      <th>max</th>\n",
              "      <td>231.000000</td>\n",
              "    </tr>\n",
              "  </tbody>\n",
              "</table>\n",
              "</div>\n",
              "      <button class=\"colab-df-convert\" onclick=\"convertToInteractive('df-14beb03f-e0a5-4f14-89a9-085c053d5db5')\"\n",
              "              title=\"Convert this dataframe to an interactive table.\"\n",
              "              style=\"display:none;\">\n",
              "        \n",
              "  <svg xmlns=\"http://www.w3.org/2000/svg\" height=\"24px\"viewBox=\"0 0 24 24\"\n",
              "       width=\"24px\">\n",
              "    <path d=\"M0 0h24v24H0V0z\" fill=\"none\"/>\n",
              "    <path d=\"M18.56 5.44l.94 2.06.94-2.06 2.06-.94-2.06-.94-.94-2.06-.94 2.06-2.06.94zm-11 1L8.5 8.5l.94-2.06 2.06-.94-2.06-.94L8.5 2.5l-.94 2.06-2.06.94zm10 10l.94 2.06.94-2.06 2.06-.94-2.06-.94-.94-2.06-.94 2.06-2.06.94z\"/><path d=\"M17.41 7.96l-1.37-1.37c-.4-.4-.92-.59-1.43-.59-.52 0-1.04.2-1.43.59L10.3 9.45l-7.72 7.72c-.78.78-.78 2.05 0 2.83L4 21.41c.39.39.9.59 1.41.59.51 0 1.02-.2 1.41-.59l7.78-7.78 2.81-2.81c.8-.78.8-2.07 0-2.86zM5.41 20L4 18.59l7.72-7.72 1.47 1.35L5.41 20z\"/>\n",
              "  </svg>\n",
              "      </button>\n",
              "      \n",
              "  <style>\n",
              "    .colab-df-container {\n",
              "      display:flex;\n",
              "      flex-wrap:wrap;\n",
              "      gap: 12px;\n",
              "    }\n",
              "\n",
              "    .colab-df-convert {\n",
              "      background-color: #E8F0FE;\n",
              "      border: none;\n",
              "      border-radius: 50%;\n",
              "      cursor: pointer;\n",
              "      display: none;\n",
              "      fill: #1967D2;\n",
              "      height: 32px;\n",
              "      padding: 0 0 0 0;\n",
              "      width: 32px;\n",
              "    }\n",
              "\n",
              "    .colab-df-convert:hover {\n",
              "      background-color: #E2EBFA;\n",
              "      box-shadow: 0px 1px 2px rgba(60, 64, 67, 0.3), 0px 1px 3px 1px rgba(60, 64, 67, 0.15);\n",
              "      fill: #174EA6;\n",
              "    }\n",
              "\n",
              "    [theme=dark] .colab-df-convert {\n",
              "      background-color: #3B4455;\n",
              "      fill: #D2E3FC;\n",
              "    }\n",
              "\n",
              "    [theme=dark] .colab-df-convert:hover {\n",
              "      background-color: #434B5C;\n",
              "      box-shadow: 0px 1px 3px 1px rgba(0, 0, 0, 0.15);\n",
              "      filter: drop-shadow(0px 1px 2px rgba(0, 0, 0, 0.3));\n",
              "      fill: #FFFFFF;\n",
              "    }\n",
              "  </style>\n",
              "\n",
              "      <script>\n",
              "        const buttonEl =\n",
              "          document.querySelector('#df-14beb03f-e0a5-4f14-89a9-085c053d5db5 button.colab-df-convert');\n",
              "        buttonEl.style.display =\n",
              "          google.colab.kernel.accessAllowed ? 'block' : 'none';\n",
              "\n",
              "        async function convertToInteractive(key) {\n",
              "          const element = document.querySelector('#df-14beb03f-e0a5-4f14-89a9-085c053d5db5');\n",
              "          const dataTable =\n",
              "            await google.colab.kernel.invokeFunction('convertToInteractive',\n",
              "                                                     [key], {});\n",
              "          if (!dataTable) return;\n",
              "\n",
              "          const docLinkHtml = 'Like what you see? Visit the ' +\n",
              "            '<a target=\"_blank\" href=https://colab.research.google.com/notebooks/data_table.ipynb>data table notebook</a>'\n",
              "            + ' to learn more about interactive tables.';\n",
              "          element.innerHTML = '';\n",
              "          dataTable['output_type'] = 'display_data';\n",
              "          await google.colab.output.renderOutput(dataTable, element);\n",
              "          const docLink = document.createElement('div');\n",
              "          docLink.innerHTML = docLinkHtml;\n",
              "          element.appendChild(docLink);\n",
              "        }\n",
              "      </script>\n",
              "    </div>\n",
              "  </div>\n",
              "  "
            ]
          },
          "metadata": {},
          "execution_count": 164
        }
      ]
    },
    {
      "cell_type": "code",
      "source": [],
      "metadata": {
        "id": "ev4ZxmgrPUN7"
      },
      "execution_count": null,
      "outputs": []
    }
  ]
}